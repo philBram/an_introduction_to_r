{
 "cells": [
  {
   "cell_type": "code",
   "execution_count": 1,
   "id": "5cb685f2-a88c-40fb-8b04-10fe23e353a0",
   "metadata": {},
   "outputs": [],
   "source": [
    "library(rio)"
   ]
  },
  {
   "cell_type": "code",
   "execution_count": 52,
   "id": "75bb4625-76ea-475b-81fa-fce90709c861",
   "metadata": {},
   "outputs": [
    {
     "data": {
      "text/html": [
       "<table class=\"dataframe\">\n",
       "<caption>A data.frame: 6 × 4</caption>\n",
       "<thead>\n",
       "\t<tr><th></th><th scope=col>Month</th><th scope=col>Mozart</th><th scope=col>Beethoven</th><th scope=col>Bach</th></tr>\n",
       "\t<tr><th></th><th scope=col>&lt;chr&gt;</th><th scope=col>&lt;int&gt;</th><th scope=col>&lt;int&gt;</th><th scope=col>&lt;int&gt;</th></tr>\n",
       "</thead>\n",
       "<tbody>\n",
       "\t<tr><th scope=row>1</th><td>2004-01</td><td>12</td><td>8</td><td>15</td></tr>\n",
       "\t<tr><th scope=row>2</th><td>2004-02</td><td>12</td><td>9</td><td>15</td></tr>\n",
       "\t<tr><th scope=row>3</th><td>2004-03</td><td>12</td><td>9</td><td>14</td></tr>\n",
       "\t<tr><th scope=row>4</th><td>2004-04</td><td>12</td><td>8</td><td>14</td></tr>\n",
       "\t<tr><th scope=row>5</th><td>2004-05</td><td>11</td><td>9</td><td>13</td></tr>\n",
       "\t<tr><th scope=row>6</th><td>2004-06</td><td> 9</td><td>7</td><td>12</td></tr>\n",
       "</tbody>\n",
       "</table>\n"
      ],
      "text/latex": [
       "A data.frame: 6 × 4\n",
       "\\begin{tabular}{r|llll}\n",
       "  & Month & Mozart & Beethoven & Bach\\\\\n",
       "  & <chr> & <int> & <int> & <int>\\\\\n",
       "\\hline\n",
       "\t1 & 2004-01 & 12 & 8 & 15\\\\\n",
       "\t2 & 2004-02 & 12 & 9 & 15\\\\\n",
       "\t3 & 2004-03 & 12 & 9 & 14\\\\\n",
       "\t4 & 2004-04 & 12 & 8 & 14\\\\\n",
       "\t5 & 2004-05 & 11 & 9 & 13\\\\\n",
       "\t6 & 2004-06 &  9 & 7 & 12\\\\\n",
       "\\end{tabular}\n"
      ],
      "text/markdown": [
       "\n",
       "A data.frame: 6 × 4\n",
       "\n",
       "| <!--/--> | Month &lt;chr&gt; | Mozart &lt;int&gt; | Beethoven &lt;int&gt; | Bach &lt;int&gt; |\n",
       "|---|---|---|---|---|\n",
       "| 1 | 2004-01 | 12 | 8 | 15 |\n",
       "| 2 | 2004-02 | 12 | 9 | 15 |\n",
       "| 3 | 2004-03 | 12 | 9 | 14 |\n",
       "| 4 | 2004-04 | 12 | 8 | 14 |\n",
       "| 5 | 2004-05 | 11 | 9 | 13 |\n",
       "| 6 | 2004-06 |  9 | 7 | 12 |\n",
       "\n"
      ],
      "text/plain": [
       "  Month   Mozart Beethoven Bach\n",
       "1 2004-01 12     8         15  \n",
       "2 2004-02 12     9         15  \n",
       "3 2004-03 12     9         14  \n",
       "4 2004-04 12     8         14  \n",
       "5 2004-05 11     9         13  \n",
       "6 2004-06  9     7         12  "
      ]
     },
     "metadata": {},
     "output_type": "display_data"
    },
    {
     "data": {
      "text/html": [
       "<table class=\"dataframe\">\n",
       "<caption>A data.frame: 6 × 4</caption>\n",
       "<thead>\n",
       "\t<tr><th></th><th scope=col>Month</th><th scope=col>Mozart</th><th scope=col>Beethoven</th><th scope=col>Bach</th></tr>\n",
       "\t<tr><th></th><th scope=col>&lt;chr&gt;</th><th scope=col>&lt;int&gt;</th><th scope=col>&lt;int&gt;</th><th scope=col>&lt;int&gt;</th></tr>\n",
       "</thead>\n",
       "<tbody>\n",
       "\t<tr><th scope=row>1</th><td>2004-01</td><td>12</td><td>8</td><td>15</td></tr>\n",
       "\t<tr><th scope=row>2</th><td>2004-02</td><td>12</td><td>9</td><td>15</td></tr>\n",
       "\t<tr><th scope=row>3</th><td>2004-03</td><td>12</td><td>9</td><td>14</td></tr>\n",
       "\t<tr><th scope=row>4</th><td>2004-04</td><td>12</td><td>8</td><td>14</td></tr>\n",
       "\t<tr><th scope=row>5</th><td>2004-05</td><td>11</td><td>9</td><td>13</td></tr>\n",
       "\t<tr><th scope=row>6</th><td>2004-06</td><td> 9</td><td>7</td><td>12</td></tr>\n",
       "</tbody>\n",
       "</table>\n"
      ],
      "text/latex": [
       "A data.frame: 6 × 4\n",
       "\\begin{tabular}{r|llll}\n",
       "  & Month & Mozart & Beethoven & Bach\\\\\n",
       "  & <chr> & <int> & <int> & <int>\\\\\n",
       "\\hline\n",
       "\t1 & 2004-01 & 12 & 8 & 15\\\\\n",
       "\t2 & 2004-02 & 12 & 9 & 15\\\\\n",
       "\t3 & 2004-03 & 12 & 9 & 14\\\\\n",
       "\t4 & 2004-04 & 12 & 8 & 14\\\\\n",
       "\t5 & 2004-05 & 11 & 9 & 13\\\\\n",
       "\t6 & 2004-06 &  9 & 7 & 12\\\\\n",
       "\\end{tabular}\n"
      ],
      "text/markdown": [
       "\n",
       "A data.frame: 6 × 4\n",
       "\n",
       "| <!--/--> | Month &lt;chr&gt; | Mozart &lt;int&gt; | Beethoven &lt;int&gt; | Bach &lt;int&gt; |\n",
       "|---|---|---|---|---|\n",
       "| 1 | 2004-01 | 12 | 8 | 15 |\n",
       "| 2 | 2004-02 | 12 | 9 | 15 |\n",
       "| 3 | 2004-03 | 12 | 9 | 14 |\n",
       "| 4 | 2004-04 | 12 | 8 | 14 |\n",
       "| 5 | 2004-05 | 11 | 9 | 13 |\n",
       "| 6 | 2004-06 |  9 | 7 | 12 |\n",
       "\n"
      ],
      "text/plain": [
       "  Month   Mozart Beethoven Bach\n",
       "1 2004-01 12     8         15  \n",
       "2 2004-02 12     9         15  \n",
       "3 2004-03 12     9         14  \n",
       "4 2004-04 12     8         14  \n",
       "5 2004-05 11     9         13  \n",
       "6 2004-06  9     7         12  "
      ]
     },
     "metadata": {},
     "output_type": "display_data"
    }
   ],
   "source": [
    "# CSV\n",
    "\n",
    "rio_csv <- import('CourseFiles/ImportingData_Datasets/mbb.csv')\n",
    "head(rio_csv)\n",
    "\n",
    "r_csv <- read.csv('CourseFiles/ImportingData_Datasets/mbb.csv', header = TRUE)\n",
    "head(r_csv)"
   ]
  },
  {
   "cell_type": "code",
   "execution_count": 49,
   "id": "8f975323-d49e-4cc7-883e-4753df50bd9a",
   "metadata": {},
   "outputs": [
    {
     "data": {
      "text/html": [
       "<table class=\"dataframe\">\n",
       "<caption>A data.frame: 6 × 4</caption>\n",
       "<thead>\n",
       "\t<tr><th></th><th scope=col>Month</th><th scope=col>Mozart</th><th scope=col>Beethoven</th><th scope=col>Bach</th></tr>\n",
       "\t<tr><th></th><th scope=col>&lt;chr&gt;</th><th scope=col>&lt;int&gt;</th><th scope=col>&lt;int&gt;</th><th scope=col>&lt;int&gt;</th></tr>\n",
       "</thead>\n",
       "<tbody>\n",
       "\t<tr><th scope=row>1</th><td>2004-01</td><td>12</td><td>8</td><td>15</td></tr>\n",
       "\t<tr><th scope=row>2</th><td>2004-02</td><td>12</td><td>9</td><td>15</td></tr>\n",
       "\t<tr><th scope=row>3</th><td>2004-03</td><td>12</td><td>9</td><td>14</td></tr>\n",
       "\t<tr><th scope=row>4</th><td>2004-04</td><td>12</td><td>8</td><td>14</td></tr>\n",
       "\t<tr><th scope=row>5</th><td>2004-05</td><td>11</td><td>9</td><td>13</td></tr>\n",
       "\t<tr><th scope=row>6</th><td>2004-06</td><td> 9</td><td>7</td><td>12</td></tr>\n",
       "</tbody>\n",
       "</table>\n"
      ],
      "text/latex": [
       "A data.frame: 6 × 4\n",
       "\\begin{tabular}{r|llll}\n",
       "  & Month & Mozart & Beethoven & Bach\\\\\n",
       "  & <chr> & <int> & <int> & <int>\\\\\n",
       "\\hline\n",
       "\t1 & 2004-01 & 12 & 8 & 15\\\\\n",
       "\t2 & 2004-02 & 12 & 9 & 15\\\\\n",
       "\t3 & 2004-03 & 12 & 9 & 14\\\\\n",
       "\t4 & 2004-04 & 12 & 8 & 14\\\\\n",
       "\t5 & 2004-05 & 11 & 9 & 13\\\\\n",
       "\t6 & 2004-06 &  9 & 7 & 12\\\\\n",
       "\\end{tabular}\n"
      ],
      "text/markdown": [
       "\n",
       "A data.frame: 6 × 4\n",
       "\n",
       "| <!--/--> | Month &lt;chr&gt; | Mozart &lt;int&gt; | Beethoven &lt;int&gt; | Bach &lt;int&gt; |\n",
       "|---|---|---|---|---|\n",
       "| 1 | 2004-01 | 12 | 8 | 15 |\n",
       "| 2 | 2004-02 | 12 | 9 | 15 |\n",
       "| 3 | 2004-03 | 12 | 9 | 14 |\n",
       "| 4 | 2004-04 | 12 | 8 | 14 |\n",
       "| 5 | 2004-05 | 11 | 9 | 13 |\n",
       "| 6 | 2004-06 |  9 | 7 | 12 |\n",
       "\n"
      ],
      "text/plain": [
       "  Month   Mozart Beethoven Bach\n",
       "1 2004-01 12     8         15  \n",
       "2 2004-02 12     9         15  \n",
       "3 2004-03 12     9         14  \n",
       "4 2004-04 12     8         14  \n",
       "5 2004-05 11     9         13  \n",
       "6 2004-06  9     7         12  "
      ]
     },
     "metadata": {},
     "output_type": "display_data"
    },
    {
     "data": {
      "text/html": [
       "<table class=\"dataframe\">\n",
       "<caption>A data.frame: 6 × 4</caption>\n",
       "<thead>\n",
       "\t<tr><th></th><th scope=col>Month</th><th scope=col>Mozart</th><th scope=col>Beethoven</th><th scope=col>Bach</th></tr>\n",
       "\t<tr><th></th><th scope=col>&lt;chr&gt;</th><th scope=col>&lt;int&gt;</th><th scope=col>&lt;int&gt;</th><th scope=col>&lt;int&gt;</th></tr>\n",
       "</thead>\n",
       "<tbody>\n",
       "\t<tr><th scope=row>1</th><td>2004-01</td><td>12</td><td>8</td><td>15</td></tr>\n",
       "\t<tr><th scope=row>2</th><td>2004-02</td><td>12</td><td>9</td><td>15</td></tr>\n",
       "\t<tr><th scope=row>3</th><td>2004-03</td><td>12</td><td>9</td><td>14</td></tr>\n",
       "\t<tr><th scope=row>4</th><td>2004-04</td><td>12</td><td>8</td><td>14</td></tr>\n",
       "\t<tr><th scope=row>5</th><td>2004-05</td><td>11</td><td>9</td><td>13</td></tr>\n",
       "\t<tr><th scope=row>6</th><td>2004-06</td><td> 9</td><td>7</td><td>12</td></tr>\n",
       "</tbody>\n",
       "</table>\n"
      ],
      "text/latex": [
       "A data.frame: 6 × 4\n",
       "\\begin{tabular}{r|llll}\n",
       "  & Month & Mozart & Beethoven & Bach\\\\\n",
       "  & <chr> & <int> & <int> & <int>\\\\\n",
       "\\hline\n",
       "\t1 & 2004-01 & 12 & 8 & 15\\\\\n",
       "\t2 & 2004-02 & 12 & 9 & 15\\\\\n",
       "\t3 & 2004-03 & 12 & 9 & 14\\\\\n",
       "\t4 & 2004-04 & 12 & 8 & 14\\\\\n",
       "\t5 & 2004-05 & 11 & 9 & 13\\\\\n",
       "\t6 & 2004-06 &  9 & 7 & 12\\\\\n",
       "\\end{tabular}\n"
      ],
      "text/markdown": [
       "\n",
       "A data.frame: 6 × 4\n",
       "\n",
       "| <!--/--> | Month &lt;chr&gt; | Mozart &lt;int&gt; | Beethoven &lt;int&gt; | Bach &lt;int&gt; |\n",
       "|---|---|---|---|---|\n",
       "| 1 | 2004-01 | 12 | 8 | 15 |\n",
       "| 2 | 2004-02 | 12 | 9 | 15 |\n",
       "| 3 | 2004-03 | 12 | 9 | 14 |\n",
       "| 4 | 2004-04 | 12 | 8 | 14 |\n",
       "| 5 | 2004-05 | 11 | 9 | 13 |\n",
       "| 6 | 2004-06 |  9 | 7 | 12 |\n",
       "\n"
      ],
      "text/plain": [
       "  Month   Mozart Beethoven Bach\n",
       "1 2004-01 12     8         15  \n",
       "2 2004-02 12     9         15  \n",
       "3 2004-03 12     9         14  \n",
       "4 2004-04 12     8         14  \n",
       "5 2004-05 11     9         13  \n",
       "6 2004-06  9     7         12  "
      ]
     },
     "metadata": {},
     "output_type": "display_data"
    }
   ],
   "source": [
    "# TXT\n",
    "\n",
    "rio_txt <- import('CourseFiles/ImportingData_Datasets/mbb.txt')\n",
    "head(rio_txt)\n",
    "\n",
    "r_txt <- read.table('CourseFiles/ImportingData_Datasets/mbb.txt', header = T, sep = '\\t')\n",
    "head(r_txt)"
   ]
  },
  {
   "cell_type": "code",
   "execution_count": 33,
   "id": "0c9863a8-60fe-42b3-a989-ee59a60f15fc",
   "metadata": {},
   "outputs": [
    {
     "data": {
      "text/html": [
       "<table class=\"dataframe\">\n",
       "<caption>A data.frame: 6 × 4</caption>\n",
       "<thead>\n",
       "\t<tr><th></th><th scope=col>Month</th><th scope=col>Mozart</th><th scope=col>Beethoven</th><th scope=col>Bach</th></tr>\n",
       "\t<tr><th></th><th scope=col>&lt;chr&gt;</th><th scope=col>&lt;dbl&gt;</th><th scope=col>&lt;dbl&gt;</th><th scope=col>&lt;dbl&gt;</th></tr>\n",
       "</thead>\n",
       "<tbody>\n",
       "\t<tr><th scope=row>1</th><td>2004-01</td><td>12</td><td>8</td><td>15</td></tr>\n",
       "\t<tr><th scope=row>2</th><td>2004-02</td><td>12</td><td>9</td><td>15</td></tr>\n",
       "\t<tr><th scope=row>3</th><td>2004-03</td><td>12</td><td>9</td><td>14</td></tr>\n",
       "\t<tr><th scope=row>4</th><td>2004-04</td><td>12</td><td>8</td><td>14</td></tr>\n",
       "\t<tr><th scope=row>5</th><td>2004-05</td><td>11</td><td>9</td><td>13</td></tr>\n",
       "\t<tr><th scope=row>6</th><td>2004-06</td><td> 9</td><td>7</td><td>12</td></tr>\n",
       "</tbody>\n",
       "</table>\n"
      ],
      "text/latex": [
       "A data.frame: 6 × 4\n",
       "\\begin{tabular}{r|llll}\n",
       "  & Month & Mozart & Beethoven & Bach\\\\\n",
       "  & <chr> & <dbl> & <dbl> & <dbl>\\\\\n",
       "\\hline\n",
       "\t1 & 2004-01 & 12 & 8 & 15\\\\\n",
       "\t2 & 2004-02 & 12 & 9 & 15\\\\\n",
       "\t3 & 2004-03 & 12 & 9 & 14\\\\\n",
       "\t4 & 2004-04 & 12 & 8 & 14\\\\\n",
       "\t5 & 2004-05 & 11 & 9 & 13\\\\\n",
       "\t6 & 2004-06 &  9 & 7 & 12\\\\\n",
       "\\end{tabular}\n"
      ],
      "text/markdown": [
       "\n",
       "A data.frame: 6 × 4\n",
       "\n",
       "| <!--/--> | Month &lt;chr&gt; | Mozart &lt;dbl&gt; | Beethoven &lt;dbl&gt; | Bach &lt;dbl&gt; |\n",
       "|---|---|---|---|---|\n",
       "| 1 | 2004-01 | 12 | 8 | 15 |\n",
       "| 2 | 2004-02 | 12 | 9 | 15 |\n",
       "| 3 | 2004-03 | 12 | 9 | 14 |\n",
       "| 4 | 2004-04 | 12 | 8 | 14 |\n",
       "| 5 | 2004-05 | 11 | 9 | 13 |\n",
       "| 6 | 2004-06 |  9 | 7 | 12 |\n",
       "\n"
      ],
      "text/plain": [
       "  Month   Mozart Beethoven Bach\n",
       "1 2004-01 12     8         15  \n",
       "2 2004-02 12     9         15  \n",
       "3 2004-03 12     9         14  \n",
       "4 2004-04 12     8         14  \n",
       "5 2004-05 11     9         13  \n",
       "6 2004-06  9     7         12  "
      ]
     },
     "metadata": {},
     "output_type": "display_data"
    }
   ],
   "source": [
    "# XLSX\n",
    "\n",
    "rio_xlsx <- import('CourseFiles/ImportingData_Datasets/mbb.xlsx')\n",
    "head(rio_xlsx)"
   ]
  },
  {
   "cell_type": "code",
   "execution_count": 53,
   "id": "a8912c5f-3ce1-4b6b-b8e1-0eadf3f05ee5",
   "metadata": {},
   "outputs": [
    {
     "data": {
      "text/html": [
       "<table class=\"dataframe\">\n",
       "<caption>A data.frame: 5 × 4</caption>\n",
       "<thead>\n",
       "\t<tr><th></th><th scope=col>Month</th><th scope=col>Mozart</th><th scope=col>Beethoven</th><th scope=col>Bach</th></tr>\n",
       "\t<tr><th></th><th scope=col>&lt;chr&gt;</th><th scope=col>&lt;int&gt;</th><th scope=col>&lt;int&gt;</th><th scope=col>&lt;int&gt;</th></tr>\n",
       "</thead>\n",
       "<tbody>\n",
       "\t<tr><th scope=row>25</th><td>2006-01</td><td>100</td><td>7</td><td>13</td></tr>\n",
       "\t<tr><th scope=row>26</th><td>2006-02</td><td> 25</td><td>7</td><td>12</td></tr>\n",
       "\t<tr><th scope=row>27</th><td>2006-03</td><td> 19</td><td>7</td><td>14</td></tr>\n",
       "\t<tr><th scope=row>29</th><td>2006-05</td><td> 15</td><td>7</td><td>12</td></tr>\n",
       "\t<tr><th scope=row>28</th><td>2006-04</td><td> 14</td><td>6</td><td>12</td></tr>\n",
       "</tbody>\n",
       "</table>\n"
      ],
      "text/latex": [
       "A data.frame: 5 × 4\n",
       "\\begin{tabular}{r|llll}\n",
       "  & Month & Mozart & Beethoven & Bach\\\\\n",
       "  & <chr> & <int> & <int> & <int>\\\\\n",
       "\\hline\n",
       "\t25 & 2006-01 & 100 & 7 & 13\\\\\n",
       "\t26 & 2006-02 &  25 & 7 & 12\\\\\n",
       "\t27 & 2006-03 &  19 & 7 & 14\\\\\n",
       "\t29 & 2006-05 &  15 & 7 & 12\\\\\n",
       "\t28 & 2006-04 &  14 & 6 & 12\\\\\n",
       "\\end{tabular}\n"
      ],
      "text/markdown": [
       "\n",
       "A data.frame: 5 × 4\n",
       "\n",
       "| <!--/--> | Month &lt;chr&gt; | Mozart &lt;int&gt; | Beethoven &lt;int&gt; | Bach &lt;int&gt; |\n",
       "|---|---|---|---|---|\n",
       "| 25 | 2006-01 | 100 | 7 | 13 |\n",
       "| 26 | 2006-02 |  25 | 7 | 12 |\n",
       "| 27 | 2006-03 |  19 | 7 | 14 |\n",
       "| 29 | 2006-05 |  15 | 7 | 12 |\n",
       "| 28 | 2006-04 |  14 | 6 | 12 |\n",
       "\n"
      ],
      "text/plain": [
       "   Month   Mozart Beethoven Bach\n",
       "25 2006-01 100    7         13  \n",
       "26 2006-02  25    7         12  \n",
       "27 2006-03  19    7         14  \n",
       "29 2006-05  15    7         12  \n",
       "28 2006-04  14    6         12  "
      ]
     },
     "metadata": {},
     "output_type": "display_data"
    }
   ],
   "source": [
    "rio_csv[order(-rio_csv$Mozart), ][1:5, ]"
   ]
  },
  {
   "cell_type": "code",
   "execution_count": 69,
   "id": "f5188165-02a4-4f07-902f-7428d30f4338",
   "metadata": {},
   "outputs": [
    {
     "data": {
      "text/html": [
       "<table class=\"dataframe\">\n",
       "<caption>A data.frame: 3 × 8</caption>\n",
       "<thead>\n",
       "\t<tr><th></th><th scope=col>mpg</th><th scope=col>cyl</th><th scope=col>disp</th><th scope=col>drat</th><th scope=col>wt</th><th scope=col>qsec</th><th scope=col>vs</th><th scope=col>am</th></tr>\n",
       "\t<tr><th></th><th scope=col>&lt;dbl&gt;</th><th scope=col>&lt;dbl&gt;</th><th scope=col>&lt;dbl&gt;</th><th scope=col>&lt;dbl&gt;</th><th scope=col>&lt;dbl&gt;</th><th scope=col>&lt;dbl&gt;</th><th scope=col>&lt;dbl&gt;</th><th scope=col>&lt;dbl&gt;</th></tr>\n",
       "</thead>\n",
       "<tbody>\n",
       "\t<tr><th scope=row>Mazda RX4</th><td>21.0</td><td>6</td><td>160</td><td>3.90</td><td>2.620</td><td>16.46</td><td>0</td><td>1</td></tr>\n",
       "\t<tr><th scope=row>Mazda RX4 Wag</th><td>21.0</td><td>6</td><td>160</td><td>3.90</td><td>2.875</td><td>17.02</td><td>0</td><td>1</td></tr>\n",
       "\t<tr><th scope=row>Datsun 710</th><td>22.8</td><td>4</td><td>108</td><td>3.85</td><td>2.320</td><td>18.61</td><td>1</td><td>1</td></tr>\n",
       "</tbody>\n",
       "</table>\n"
      ],
      "text/latex": [
       "A data.frame: 3 × 8\n",
       "\\begin{tabular}{r|llllllll}\n",
       "  & mpg & cyl & disp & drat & wt & qsec & vs & am\\\\\n",
       "  & <dbl> & <dbl> & <dbl> & <dbl> & <dbl> & <dbl> & <dbl> & <dbl>\\\\\n",
       "\\hline\n",
       "\tMazda RX4 & 21.0 & 6 & 160 & 3.90 & 2.620 & 16.46 & 0 & 1\\\\\n",
       "\tMazda RX4 Wag & 21.0 & 6 & 160 & 3.90 & 2.875 & 17.02 & 0 & 1\\\\\n",
       "\tDatsun 710 & 22.8 & 4 & 108 & 3.85 & 2.320 & 18.61 & 1 & 1\\\\\n",
       "\\end{tabular}\n"
      ],
      "text/markdown": [
       "\n",
       "A data.frame: 3 × 8\n",
       "\n",
       "| <!--/--> | mpg &lt;dbl&gt; | cyl &lt;dbl&gt; | disp &lt;dbl&gt; | drat &lt;dbl&gt; | wt &lt;dbl&gt; | qsec &lt;dbl&gt; | vs &lt;dbl&gt; | am &lt;dbl&gt; |\n",
       "|---|---|---|---|---|---|---|---|---|\n",
       "| Mazda RX4 | 21.0 | 6 | 160 | 3.90 | 2.620 | 16.46 | 0 | 1 |\n",
       "| Mazda RX4 Wag | 21.0 | 6 | 160 | 3.90 | 2.875 | 17.02 | 0 | 1 |\n",
       "| Datsun 710 | 22.8 | 4 | 108 | 3.85 | 2.320 | 18.61 | 1 | 1 |\n",
       "\n"
      ],
      "text/plain": [
       "              mpg  cyl disp drat wt    qsec  vs am\n",
       "Mazda RX4     21.0 6   160  3.90 2.620 16.46 0  1 \n",
       "Mazda RX4 Wag 21.0 6   160  3.90 2.875 17.02 0  1 \n",
       "Datsun 710    22.8 4   108  3.85 2.320 18.61 1  1 "
      ]
     },
     "metadata": {},
     "output_type": "display_data"
    }
   ],
   "source": [
    "mtcars[c(1:3), c(1:3, 5:9)]"
   ]
  }
 ],
 "metadata": {
  "kernelspec": {
   "display_name": "R [conda env:ml_data_science_r]",
   "language": "R",
   "name": "conda-env-ml_data_science_r-r"
  },
  "language_info": {
   "codemirror_mode": "r",
   "file_extension": ".r",
   "mimetype": "text/x-r-source",
   "name": "R",
   "pygments_lexer": "r",
   "version": "4.2.3"
  }
 },
 "nbformat": 4,
 "nbformat_minor": 5
}
