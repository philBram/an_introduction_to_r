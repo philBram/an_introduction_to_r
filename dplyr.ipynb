{
 "cells": [
  {
   "cell_type": "code",
   "execution_count": 34,
   "id": "9a3ca608-a616-45b4-a770-ee733e3f7759",
   "metadata": {},
   "outputs": [],
   "source": [
    "library(dplyr)\n",
    "library(rio)"
   ]
  },
  {
   "cell_type": "code",
   "execution_count": 13,
   "id": "4bd48db7-06e5-4d29-ab0e-216f64d14b22",
   "metadata": {},
   "outputs": [
    {
     "data": {
      "text/html": [
       "<table class=\"dataframe\">\n",
       "<caption>A data.frame: 5 × 4</caption>\n",
       "<thead>\n",
       "\t<tr><th></th><th scope=col>Month</th><th scope=col>Mozart</th><th scope=col>Beethoven</th><th scope=col>Bach</th></tr>\n",
       "\t<tr><th></th><th scope=col>&lt;chr&gt;</th><th scope=col>&lt;int&gt;</th><th scope=col>&lt;int&gt;</th><th scope=col>&lt;int&gt;</th></tr>\n",
       "</thead>\n",
       "<tbody>\n",
       "\t<tr><th scope=row>1</th><td>2004-01</td><td>12</td><td>8</td><td>15</td></tr>\n",
       "\t<tr><th scope=row>2</th><td>2004-02</td><td>12</td><td>9</td><td>15</td></tr>\n",
       "\t<tr><th scope=row>3</th><td>2004-03</td><td>12</td><td>9</td><td>14</td></tr>\n",
       "\t<tr><th scope=row>4</th><td>2004-04</td><td>12</td><td>8</td><td>14</td></tr>\n",
       "\t<tr><th scope=row>5</th><td>2004-05</td><td>11</td><td>9</td><td>13</td></tr>\n",
       "</tbody>\n",
       "</table>\n"
      ],
      "text/latex": [
       "A data.frame: 5 × 4\n",
       "\\begin{tabular}{r|llll}\n",
       "  & Month & Mozart & Beethoven & Bach\\\\\n",
       "  & <chr> & <int> & <int> & <int>\\\\\n",
       "\\hline\n",
       "\t1 & 2004-01 & 12 & 8 & 15\\\\\n",
       "\t2 & 2004-02 & 12 & 9 & 15\\\\\n",
       "\t3 & 2004-03 & 12 & 9 & 14\\\\\n",
       "\t4 & 2004-04 & 12 & 8 & 14\\\\\n",
       "\t5 & 2004-05 & 11 & 9 & 13\\\\\n",
       "\\end{tabular}\n"
      ],
      "text/markdown": [
       "\n",
       "A data.frame: 5 × 4\n",
       "\n",
       "| <!--/--> | Month &lt;chr&gt; | Mozart &lt;int&gt; | Beethoven &lt;int&gt; | Bach &lt;int&gt; |\n",
       "|---|---|---|---|---|\n",
       "| 1 | 2004-01 | 12 | 8 | 15 |\n",
       "| 2 | 2004-02 | 12 | 9 | 15 |\n",
       "| 3 | 2004-03 | 12 | 9 | 14 |\n",
       "| 4 | 2004-04 | 12 | 8 | 14 |\n",
       "| 5 | 2004-05 | 11 | 9 | 13 |\n",
       "\n"
      ],
      "text/plain": [
       "  Month   Mozart Beethoven Bach\n",
       "1 2004-01 12     8         15  \n",
       "2 2004-02 12     9         15  \n",
       "3 2004-03 12     9         14  \n",
       "4 2004-04 12     8         14  \n",
       "5 2004-05 11     9         13  "
      ]
     },
     "metadata": {},
     "output_type": "display_data"
    }
   ],
   "source": [
    "df <- rio::import('CourseFiles/ImportingData_Datasets/mbb.csv')\n",
    "df[c(1:5), ]"
   ]
  },
  {
   "cell_type": "code",
   "execution_count": 95,
   "id": "4bad193e-417e-4b7d-b49e-fa9805c4b377",
   "metadata": {},
   "outputs": [
    {
     "data": {
      "text/html": [
       "<table class=\"dataframe\">\n",
       "<caption>A data.frame: 3 × 3</caption>\n",
       "<thead>\n",
       "\t<tr><th></th><th scope=col>Beethoven</th><th scope=col>Bach</th><th scope=col>good</th></tr>\n",
       "\t<tr><th></th><th scope=col>&lt;int&gt;</th><th scope=col>&lt;int&gt;</th><th scope=col>&lt;lgl&gt;</th></tr>\n",
       "</thead>\n",
       "<tbody>\n",
       "\t<tr><th scope=row>1</th><td>4</td><td> 9</td><td>FALSE</td></tr>\n",
       "\t<tr><th scope=row>2</th><td>5</td><td>11</td><td> TRUE</td></tr>\n",
       "\t<tr><th scope=row>3</th><td>5</td><td>10</td><td>FALSE</td></tr>\n",
       "</tbody>\n",
       "</table>\n"
      ],
      "text/latex": [
       "A data.frame: 3 × 3\n",
       "\\begin{tabular}{r|lll}\n",
       "  & Beethoven & Bach & good\\\\\n",
       "  & <int> & <int> & <lgl>\\\\\n",
       "\\hline\n",
       "\t1 & 4 &  9 & FALSE\\\\\n",
       "\t2 & 5 & 11 &  TRUE\\\\\n",
       "\t3 & 5 & 10 & FALSE\\\\\n",
       "\\end{tabular}\n"
      ],
      "text/markdown": [
       "\n",
       "A data.frame: 3 × 3\n",
       "\n",
       "| <!--/--> | Beethoven &lt;int&gt; | Bach &lt;int&gt; | good &lt;lgl&gt; |\n",
       "|---|---|---|---|\n",
       "| 1 | 4 |  9 | FALSE |\n",
       "| 2 | 5 | 11 |  TRUE |\n",
       "| 3 | 5 | 10 | FALSE |\n",
       "\n"
      ],
      "text/plain": [
       "  Beethoven Bach good \n",
       "1 4          9   FALSE\n",
       "2 5         11    TRUE\n",
       "3 5         10   FALSE"
      ]
     },
     "metadata": {},
     "output_type": "display_data"
    },
    {
     "data": {
      "text/html": [
       "<table class=\"dataframe\">\n",
       "<caption>A data.frame: 4 × 2</caption>\n",
       "<thead>\n",
       "\t<tr><th scope=col>Beethoven</th><th scope=col>n</th></tr>\n",
       "\t<tr><th scope=col>&lt;int&gt;</th><th scope=col>&lt;int&gt;</th></tr>\n",
       "</thead>\n",
       "<tbody>\n",
       "\t<tr><td>6</td><td>3</td></tr>\n",
       "\t<tr><td>7</td><td>3</td></tr>\n",
       "\t<tr><td>5</td><td>2</td></tr>\n",
       "\t<tr><td>4</td><td>1</td></tr>\n",
       "</tbody>\n",
       "</table>\n"
      ],
      "text/latex": [
       "A data.frame: 4 × 2\n",
       "\\begin{tabular}{ll}\n",
       " Beethoven & n\\\\\n",
       " <int> & <int>\\\\\n",
       "\\hline\n",
       "\t 6 & 3\\\\\n",
       "\t 7 & 3\\\\\n",
       "\t 5 & 2\\\\\n",
       "\t 4 & 1\\\\\n",
       "\\end{tabular}\n"
      ],
      "text/markdown": [
       "\n",
       "A data.frame: 4 × 2\n",
       "\n",
       "| Beethoven &lt;int&gt; | n &lt;int&gt; |\n",
       "|---|---|\n",
       "| 6 | 3 |\n",
       "| 7 | 3 |\n",
       "| 5 | 2 |\n",
       "| 4 | 1 |\n",
       "\n"
      ],
      "text/plain": [
       "  Beethoven n\n",
       "1 6         3\n",
       "2 7         3\n",
       "3 5         2\n",
       "4 4         1"
      ]
     },
     "metadata": {},
     "output_type": "display_data"
    }
   ],
   "source": [
    "df2 <- df %>% \n",
    "dplyr::filter(Mozart == 9) %>%\n",
    "dplyr::arrange(Beethoven, -Bach) %>%\n",
    "dplyr::mutate(good = Bach > 10, Month = NULL) %>%\n",
    "#dplyr::transmute(bad = Beethoven < 5 | Bach < 11) %>%\n",
    "dplyr::select(-Mozart)\n",
    "df2[c(1:3), ]\n",
    "\n",
    "df3 <- df2 %>%\n",
    "dplyr::count(Beethoven, sort = T)\n",
    "df3"
   ]
  }
 ],
 "metadata": {
  "kernelspec": {
   "display_name": "R [conda env:ml_data_science_r]",
   "language": "R",
   "name": "conda-env-ml_data_science_r-r"
  },
  "language_info": {
   "codemirror_mode": "r",
   "file_extension": ".r",
   "mimetype": "text/x-r-source",
   "name": "R",
   "pygments_lexer": "r",
   "version": "4.2.3"
  }
 },
 "nbformat": 4,
 "nbformat_minor": 5
}
