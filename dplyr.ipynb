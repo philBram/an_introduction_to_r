{
 "cells": [
  {
   "cell_type": "code",
   "execution_count": 3,
   "id": "9a3ca608-a616-45b4-a770-ee733e3f7759",
   "metadata": {},
   "outputs": [
    {
     "name": "stderr",
     "output_type": "stream",
     "text": [
      "\n",
      "Attaching package: ‘dplyr’\n",
      "\n",
      "\n",
      "The following objects are masked from ‘package:stats’:\n",
      "\n",
      "    filter, lag\n",
      "\n",
      "\n",
      "The following objects are masked from ‘package:base’:\n",
      "\n",
      "    intersect, setdiff, setequal, union\n",
      "\n",
      "\n"
     ]
    }
   ],
   "source": [
    "library(dplyr)\n",
    "library(rio)"
   ]
  },
  {
   "cell_type": "code",
   "execution_count": 4,
   "id": "4bd48db7-06e5-4d29-ab0e-216f64d14b22",
   "metadata": {},
   "outputs": [
    {
     "data": {
      "text/html": [
       "<table class=\"dataframe\">\n",
       "<caption>A data.frame: 5 × 7</caption>\n",
       "<thead>\n",
       "\t<tr><th></th><th scope=col>date</th><th scope=col>rank</th><th scope=col>song</th><th scope=col>artist</th><th scope=col>last-week</th><th scope=col>peak-rank</th><th scope=col>weeks-on-board</th></tr>\n",
       "\t<tr><th></th><th scope=col>&lt;IDate&gt;</th><th scope=col>&lt;int&gt;</th><th scope=col>&lt;chr&gt;</th><th scope=col>&lt;chr&gt;</th><th scope=col>&lt;int&gt;</th><th scope=col>&lt;int&gt;</th><th scope=col>&lt;int&gt;</th></tr>\n",
       "</thead>\n",
       "<tbody>\n",
       "\t<tr><th scope=row>1</th><td>2021-11-06</td><td>1</td><td>Easy On Me   </td><td>Adele                        </td><td>1</td><td>1</td><td> 3</td></tr>\n",
       "\t<tr><th scope=row>2</th><td>2021-11-06</td><td>2</td><td><span style=white-space:pre-wrap>Stay         </span></td><td>The Kid LAROI &amp; Justin Bieber</td><td>2</td><td>1</td><td>16</td></tr>\n",
       "\t<tr><th scope=row>3</th><td>2021-11-06</td><td>3</td><td>Industry Baby</td><td><span style=white-space:pre-wrap>Lil Nas X &amp; Jack Harlow      </span></td><td>3</td><td>1</td><td>14</td></tr>\n",
       "\t<tr><th scope=row>4</th><td>2021-11-06</td><td>4</td><td>Fancy Like   </td><td>Walker Hayes                 </td><td>4</td><td>3</td><td>19</td></tr>\n",
       "\t<tr><th scope=row>5</th><td>2021-11-06</td><td>5</td><td>Bad Habits   </td><td>Ed Sheeran                   </td><td>5</td><td>2</td><td>18</td></tr>\n",
       "</tbody>\n",
       "</table>\n"
      ],
      "text/latex": [
       "A data.frame: 5 × 7\n",
       "\\begin{tabular}{r|lllllll}\n",
       "  & date & rank & song & artist & last-week & peak-rank & weeks-on-board\\\\\n",
       "  & <IDate> & <int> & <chr> & <chr> & <int> & <int> & <int>\\\\\n",
       "\\hline\n",
       "\t1 & 2021-11-06 & 1 & Easy On Me    & Adele                         & 1 & 1 &  3\\\\\n",
       "\t2 & 2021-11-06 & 2 & Stay          & The Kid LAROI \\& Justin Bieber & 2 & 1 & 16\\\\\n",
       "\t3 & 2021-11-06 & 3 & Industry Baby & Lil Nas X \\& Jack Harlow       & 3 & 1 & 14\\\\\n",
       "\t4 & 2021-11-06 & 4 & Fancy Like    & Walker Hayes                  & 4 & 3 & 19\\\\\n",
       "\t5 & 2021-11-06 & 5 & Bad Habits    & Ed Sheeran                    & 5 & 2 & 18\\\\\n",
       "\\end{tabular}\n"
      ],
      "text/markdown": [
       "\n",
       "A data.frame: 5 × 7\n",
       "\n",
       "| <!--/--> | date &lt;IDate&gt; | rank &lt;int&gt; | song &lt;chr&gt; | artist &lt;chr&gt; | last-week &lt;int&gt; | peak-rank &lt;int&gt; | weeks-on-board &lt;int&gt; |\n",
       "|---|---|---|---|---|---|---|---|\n",
       "| 1 | 2021-11-06 | 1 | Easy On Me    | Adele                         | 1 | 1 |  3 |\n",
       "| 2 | 2021-11-06 | 2 | Stay          | The Kid LAROI &amp; Justin Bieber | 2 | 1 | 16 |\n",
       "| 3 | 2021-11-06 | 3 | Industry Baby | Lil Nas X &amp; Jack Harlow       | 3 | 1 | 14 |\n",
       "| 4 | 2021-11-06 | 4 | Fancy Like    | Walker Hayes                  | 4 | 3 | 19 |\n",
       "| 5 | 2021-11-06 | 5 | Bad Habits    | Ed Sheeran                    | 5 | 2 | 18 |\n",
       "\n"
      ],
      "text/plain": [
       "  date       rank song          artist                        last-week\n",
       "1 2021-11-06 1    Easy On Me    Adele                         1        \n",
       "2 2021-11-06 2    Stay          The Kid LAROI & Justin Bieber 2        \n",
       "3 2021-11-06 3    Industry Baby Lil Nas X & Jack Harlow       3        \n",
       "4 2021-11-06 4    Fancy Like    Walker Hayes                  4        \n",
       "5 2021-11-06 5    Bad Habits    Ed Sheeran                    5        \n",
       "  peak-rank weeks-on-board\n",
       "1 1          3            \n",
       "2 1         16            \n",
       "3 1         14            \n",
       "4 3         19            \n",
       "5 2         18            "
      ]
     },
     "metadata": {},
     "output_type": "display_data"
    }
   ],
   "source": [
    "df <- rio::import('charts.csv')\n",
    "df[c(1:5), ]"
   ]
  },
  {
   "cell_type": "code",
   "execution_count": 5,
   "id": "4bad193e-417e-4b7d-b49e-fa9805c4b377",
   "metadata": {},
   "outputs": [
    {
     "data": {
      "text/html": [
       "<style>\n",
       ".list-inline {list-style: none; margin:0; padding: 0}\n",
       ".list-inline>li {display: inline-block}\n",
       ".list-inline>li:not(:last-child)::after {content: \"\\00b7\"; padding: 0 .5ex}\n",
       "</style>\n",
       "<ol class=list-inline><li>330087</li><li>7</li></ol>\n"
      ],
      "text/latex": [
       "\\begin{enumerate*}\n",
       "\\item 330087\n",
       "\\item 7\n",
       "\\end{enumerate*}\n"
      ],
      "text/markdown": [
       "1. 330087\n",
       "2. 7\n",
       "\n",
       "\n"
      ],
      "text/plain": [
       "[1] 330087      7"
      ]
     },
     "metadata": {},
     "output_type": "display_data"
    }
   ],
   "source": [
    "dim(df)"
   ]
  },
  {
   "cell_type": "code",
   "execution_count": 6,
   "id": "ff9cf21d-5044-4885-a6e9-520d30903d87",
   "metadata": {},
   "outputs": [
    {
     "data": {
      "text/html": [
       "<table class=\"dataframe\">\n",
       "<caption>A data.frame: 3 × 5</caption>\n",
       "<thead>\n",
       "\t<tr><th></th><th scope=col>date</th><th scope=col>rank</th><th scope=col>song</th><th scope=col>artist</th><th scope=col>week_popular</th></tr>\n",
       "\t<tr><th></th><th scope=col>&lt;IDate&gt;</th><th scope=col>&lt;int&gt;</th><th scope=col>&lt;chr&gt;</th><th scope=col>&lt;chr&gt;</th><th scope=col>&lt;int&gt;</th></tr>\n",
       "</thead>\n",
       "<tbody>\n",
       "\t<tr><th scope=row>1</th><td>2021-11-06</td><td>1</td><td>Easy On Me   </td><td>Adele                        </td><td> 3</td></tr>\n",
       "\t<tr><th scope=row>2</th><td>2021-11-06</td><td>2</td><td><span style=white-space:pre-wrap>Stay         </span></td><td>The Kid LAROI &amp; Justin Bieber</td><td>16</td></tr>\n",
       "\t<tr><th scope=row>3</th><td>2021-11-06</td><td>3</td><td>Industry Baby</td><td><span style=white-space:pre-wrap>Lil Nas X &amp; Jack Harlow      </span></td><td>14</td></tr>\n",
       "</tbody>\n",
       "</table>\n"
      ],
      "text/latex": [
       "A data.frame: 3 × 5\n",
       "\\begin{tabular}{r|lllll}\n",
       "  & date & rank & song & artist & week\\_popular\\\\\n",
       "  & <IDate> & <int> & <chr> & <chr> & <int>\\\\\n",
       "\\hline\n",
       "\t1 & 2021-11-06 & 1 & Easy On Me    & Adele                         &  3\\\\\n",
       "\t2 & 2021-11-06 & 2 & Stay          & The Kid LAROI \\& Justin Bieber & 16\\\\\n",
       "\t3 & 2021-11-06 & 3 & Industry Baby & Lil Nas X \\& Jack Harlow       & 14\\\\\n",
       "\\end{tabular}\n"
      ],
      "text/markdown": [
       "\n",
       "A data.frame: 3 × 5\n",
       "\n",
       "| <!--/--> | date &lt;IDate&gt; | rank &lt;int&gt; | song &lt;chr&gt; | artist &lt;chr&gt; | week_popular &lt;int&gt; |\n",
       "|---|---|---|---|---|---|\n",
       "| 1 | 2021-11-06 | 1 | Easy On Me    | Adele                         |  3 |\n",
       "| 2 | 2021-11-06 | 2 | Stay          | The Kid LAROI &amp; Justin Bieber | 16 |\n",
       "| 3 | 2021-11-06 | 3 | Industry Baby | Lil Nas X &amp; Jack Harlow       | 14 |\n",
       "\n"
      ],
      "text/plain": [
       "  date       rank song          artist                        week_popular\n",
       "1 2021-11-06 1    Easy On Me    Adele                          3          \n",
       "2 2021-11-06 2    Stay          The Kid LAROI & Justin Bieber 16          \n",
       "3 2021-11-06 3    Industry Baby Lil Nas X & Jack Harlow       14          "
      ]
     },
     "metadata": {},
     "output_type": "display_data"
    },
    {
     "data": {
      "text/html": [
       "<table class=\"dataframe\">\n",
       "<caption>A data.frame: 3 × 5</caption>\n",
       "<thead>\n",
       "\t<tr><th></th><th scope=col>date</th><th scope=col>rank</th><th scope=col>song</th><th scope=col>artist</th><th scope=col>week_popular</th></tr>\n",
       "\t<tr><th></th><th scope=col>&lt;IDate&gt;</th><th scope=col>&lt;int&gt;</th><th scope=col>&lt;chr&gt;</th><th scope=col>&lt;chr&gt;</th><th scope=col>&lt;int&gt;</th></tr>\n",
       "</thead>\n",
       "<tbody>\n",
       "\t<tr><th scope=row>1</th><td>2021-11-06</td><td>1</td><td>Easy On Me   </td><td>Adele                        </td><td> 3</td></tr>\n",
       "\t<tr><th scope=row>2</th><td>2021-11-06</td><td>2</td><td><span style=white-space:pre-wrap>Stay         </span></td><td>The Kid LAROI &amp; Justin Bieber</td><td>16</td></tr>\n",
       "\t<tr><th scope=row>3</th><td>2021-11-06</td><td>3</td><td>Industry Baby</td><td><span style=white-space:pre-wrap>Lil Nas X &amp; Jack Harlow      </span></td><td>14</td></tr>\n",
       "</tbody>\n",
       "</table>\n"
      ],
      "text/latex": [
       "A data.frame: 3 × 5\n",
       "\\begin{tabular}{r|lllll}\n",
       "  & date & rank & song & artist & week\\_popular\\\\\n",
       "  & <IDate> & <int> & <chr> & <chr> & <int>\\\\\n",
       "\\hline\n",
       "\t1 & 2021-11-06 & 1 & Easy On Me    & Adele                         &  3\\\\\n",
       "\t2 & 2021-11-06 & 2 & Stay          & The Kid LAROI \\& Justin Bieber & 16\\\\\n",
       "\t3 & 2021-11-06 & 3 & Industry Baby & Lil Nas X \\& Jack Harlow       & 14\\\\\n",
       "\\end{tabular}\n"
      ],
      "text/markdown": [
       "\n",
       "A data.frame: 3 × 5\n",
       "\n",
       "| <!--/--> | date &lt;IDate&gt; | rank &lt;int&gt; | song &lt;chr&gt; | artist &lt;chr&gt; | week_popular &lt;int&gt; |\n",
       "|---|---|---|---|---|---|\n",
       "| 1 | 2021-11-06 | 1 | Easy On Me    | Adele                         |  3 |\n",
       "| 2 | 2021-11-06 | 2 | Stay          | The Kid LAROI &amp; Justin Bieber | 16 |\n",
       "| 3 | 2021-11-06 | 3 | Industry Baby | Lil Nas X &amp; Jack Harlow       | 14 |\n",
       "\n"
      ],
      "text/plain": [
       "  date       rank song          artist                        week_popular\n",
       "1 2021-11-06 1    Easy On Me    Adele                          3          \n",
       "2 2021-11-06 2    Stay          The Kid LAROI & Justin Bieber 16          \n",
       "3 2021-11-06 3    Industry Baby Lil Nas X & Jack Harlow       14          "
      ]
     },
     "metadata": {},
     "output_type": "display_data"
    }
   ],
   "source": [
    "# Select\n",
    "\n",
    "(df %>% dplyr::select(date:artist, week_popular = 'weeks-on-board'))[c(1:3), ]\n",
    "(df %>% dplyr::select(-'last-week', -'peak-rank', week_popular = 'weeks-on-board'))[c(1:3), ]"
   ]
  },
  {
   "cell_type": "code",
   "execution_count": 7,
   "id": "31b830df-5374-4c85-9375-845371d35e5d",
   "metadata": {
    "tags": []
   },
   "outputs": [
    {
     "data": {
      "text/html": [
       "<table class=\"dataframe\">\n",
       "<caption>A data.frame: 10 × 6</caption>\n",
       "<thead>\n",
       "\t<tr><th></th><th scope=col>artist</th><th scope=col>is_collab</th><th scope=col>date</th><th scope=col>rank</th><th scope=col>song</th><th scope=col>week_popular</th></tr>\n",
       "\t<tr><th></th><th scope=col>&lt;chr&gt;</th><th scope=col>&lt;lgl&gt;</th><th scope=col>&lt;IDate&gt;</th><th scope=col>&lt;int&gt;</th><th scope=col>&lt;chr&gt;</th><th scope=col>&lt;int&gt;</th></tr>\n",
       "</thead>\n",
       "<tbody>\n",
       "\t<tr><th scope=row>1</th><td>Adele                              </td><td>FALSE</td><td>2021-11-06</td><td> 1</td><td>Easy On Me   </td><td> 3</td></tr>\n",
       "\t<tr><th scope=row>2</th><td><span style=white-space:pre-wrap>The Kid LAROI &amp; Justin Bieber      </span></td><td>FALSE</td><td>2021-11-06</td><td> 2</td><td><span style=white-space:pre-wrap>Stay         </span></td><td>16</td></tr>\n",
       "\t<tr><th scope=row>3</th><td><span style=white-space:pre-wrap>Lil Nas X &amp; Jack Harlow            </span></td><td>FALSE</td><td>2021-11-06</td><td> 3</td><td>Industry Baby</td><td>14</td></tr>\n",
       "\t<tr><th scope=row>4</th><td>Walker Hayes                       </td><td>FALSE</td><td>2021-11-06</td><td> 4</td><td>Fancy Like   </td><td>19</td></tr>\n",
       "\t<tr><th scope=row>5</th><td>Ed Sheeran                         </td><td>FALSE</td><td>2021-11-06</td><td> 5</td><td>Bad Habits   </td><td>18</td></tr>\n",
       "\t<tr><th scope=row>6</th><td>Drake Featuring Future &amp; Young Thug</td><td> TRUE</td><td>2021-11-06</td><td> 6</td><td><span style=white-space:pre-wrap>Way 2 Sexy   </span></td><td> 8</td></tr>\n",
       "\t<tr><th scope=row>7</th><td>Ed Sheeran                         </td><td>FALSE</td><td>2021-11-06</td><td> 7</td><td>Shivers      </td><td> 7</td></tr>\n",
       "\t<tr><th scope=row>8</th><td>Olivia Rodrigo                     </td><td>FALSE</td><td>2021-11-06</td><td> 8</td><td>Good 4 U     </td><td>24</td></tr>\n",
       "\t<tr><th scope=row>9</th><td>Doja Cat                           </td><td>FALSE</td><td>2021-11-06</td><td> 9</td><td>Need To Know </td><td>20</td></tr>\n",
       "\t<tr><th scope=row>10</th><td>Dua Lipa                           </td><td>FALSE</td><td>2021-11-06</td><td>10</td><td>Levitating   </td><td>56</td></tr>\n",
       "</tbody>\n",
       "</table>\n"
      ],
      "text/latex": [
       "A data.frame: 10 × 6\n",
       "\\begin{tabular}{r|llllll}\n",
       "  & artist & is\\_collab & date & rank & song & week\\_popular\\\\\n",
       "  & <chr> & <lgl> & <IDate> & <int> & <chr> & <int>\\\\\n",
       "\\hline\n",
       "\t1 & Adele                               & FALSE & 2021-11-06 &  1 & Easy On Me    &  3\\\\\n",
       "\t2 & The Kid LAROI \\& Justin Bieber       & FALSE & 2021-11-06 &  2 & Stay          & 16\\\\\n",
       "\t3 & Lil Nas X \\& Jack Harlow             & FALSE & 2021-11-06 &  3 & Industry Baby & 14\\\\\n",
       "\t4 & Walker Hayes                        & FALSE & 2021-11-06 &  4 & Fancy Like    & 19\\\\\n",
       "\t5 & Ed Sheeran                          & FALSE & 2021-11-06 &  5 & Bad Habits    & 18\\\\\n",
       "\t6 & Drake Featuring Future \\& Young Thug &  TRUE & 2021-11-06 &  6 & Way 2 Sexy    &  8\\\\\n",
       "\t7 & Ed Sheeran                          & FALSE & 2021-11-06 &  7 & Shivers       &  7\\\\\n",
       "\t8 & Olivia Rodrigo                      & FALSE & 2021-11-06 &  8 & Good 4 U      & 24\\\\\n",
       "\t9 & Doja Cat                            & FALSE & 2021-11-06 &  9 & Need To Know  & 20\\\\\n",
       "\t10 & Dua Lipa                            & FALSE & 2021-11-06 & 10 & Levitating    & 56\\\\\n",
       "\\end{tabular}\n"
      ],
      "text/markdown": [
       "\n",
       "A data.frame: 10 × 6\n",
       "\n",
       "| <!--/--> | artist &lt;chr&gt; | is_collab &lt;lgl&gt; | date &lt;IDate&gt; | rank &lt;int&gt; | song &lt;chr&gt; | week_popular &lt;int&gt; |\n",
       "|---|---|---|---|---|---|---|\n",
       "| 1 | Adele                               | FALSE | 2021-11-06 |  1 | Easy On Me    |  3 |\n",
       "| 2 | The Kid LAROI &amp; Justin Bieber       | FALSE | 2021-11-06 |  2 | Stay          | 16 |\n",
       "| 3 | Lil Nas X &amp; Jack Harlow             | FALSE | 2021-11-06 |  3 | Industry Baby | 14 |\n",
       "| 4 | Walker Hayes                        | FALSE | 2021-11-06 |  4 | Fancy Like    | 19 |\n",
       "| 5 | Ed Sheeran                          | FALSE | 2021-11-06 |  5 | Bad Habits    | 18 |\n",
       "| 6 | Drake Featuring Future &amp; Young Thug |  TRUE | 2021-11-06 |  6 | Way 2 Sexy    |  8 |\n",
       "| 7 | Ed Sheeran                          | FALSE | 2021-11-06 |  7 | Shivers       |  7 |\n",
       "| 8 | Olivia Rodrigo                      | FALSE | 2021-11-06 |  8 | Good 4 U      | 24 |\n",
       "| 9 | Doja Cat                            | FALSE | 2021-11-06 |  9 | Need To Know  | 20 |\n",
       "| 10 | Dua Lipa                            | FALSE | 2021-11-06 | 10 | Levitating    | 56 |\n",
       "\n"
      ],
      "text/plain": [
       "   artist                              is_collab date       rank song         \n",
       "1  Adele                               FALSE     2021-11-06  1   Easy On Me   \n",
       "2  The Kid LAROI & Justin Bieber       FALSE     2021-11-06  2   Stay         \n",
       "3  Lil Nas X & Jack Harlow             FALSE     2021-11-06  3   Industry Baby\n",
       "4  Walker Hayes                        FALSE     2021-11-06  4   Fancy Like   \n",
       "5  Ed Sheeran                          FALSE     2021-11-06  5   Bad Habits   \n",
       "6  Drake Featuring Future & Young Thug  TRUE     2021-11-06  6   Way 2 Sexy   \n",
       "7  Ed Sheeran                          FALSE     2021-11-06  7   Shivers      \n",
       "8  Olivia Rodrigo                      FALSE     2021-11-06  8   Good 4 U     \n",
       "9  Doja Cat                            FALSE     2021-11-06  9   Need To Know \n",
       "10 Dua Lipa                            FALSE     2021-11-06 10   Levitating   \n",
       "   week_popular\n",
       "1   3          \n",
       "2  16          \n",
       "3  14          \n",
       "4  19          \n",
       "5  18          \n",
       "6   8          \n",
       "7   7          \n",
       "8  24          \n",
       "9  20          \n",
       "10 56          "
      ]
     },
     "metadata": {},
     "output_type": "display_data"
    }
   ],
   "source": [
    "# Mutate\n",
    "\n",
    "(df %>% \n",
    "    dplyr::select(-'last-week', -'peak-rank', week_popular = 'weeks-on-board') %>%\n",
    "    dplyr::mutate(is_collab = grepl('Featuring', artist)) %>%\n",
    "    dplyr::select(artist, is_collab, everything()))[c(1:10), ]"
   ]
  },
  {
   "cell_type": "code",
   "execution_count": 8,
   "id": "64ea1645-181d-4002-9008-c45daf38db01",
   "metadata": {},
   "outputs": [
    {
     "data": {
      "text/html": [
       "<table class=\"dataframe\">\n",
       "<caption>A data.frame: 3 × 5</caption>\n",
       "<thead>\n",
       "\t<tr><th></th><th scope=col>date</th><th scope=col>rank</th><th scope=col>song</th><th scope=col>artist</th><th scope=col>week_popular</th></tr>\n",
       "\t<tr><th></th><th scope=col>&lt;IDate&gt;</th><th scope=col>&lt;int&gt;</th><th scope=col>&lt;chr&gt;</th><th scope=col>&lt;chr&gt;</th><th scope=col>&lt;int&gt;</th></tr>\n",
       "</thead>\n",
       "<tbody>\n",
       "\t<tr><th scope=row>1</th><td>2021-05-08</td><td>61</td><td>Willow      </td><td>Taylor Swift</td><td>20</td></tr>\n",
       "\t<tr><th scope=row>2</th><td>2020-08-29</td><td>72</td><td>Toosie Slide</td><td>Drake       </td><td>20</td></tr>\n",
       "\t<tr><th scope=row>3</th><td>2020-01-25</td><td>50</td><td>Lover       </td><td>Taylor Swift</td><td>22</td></tr>\n",
       "</tbody>\n",
       "</table>\n"
      ],
      "text/latex": [
       "A data.frame: 3 × 5\n",
       "\\begin{tabular}{r|lllll}\n",
       "  & date & rank & song & artist & week\\_popular\\\\\n",
       "  & <IDate> & <int> & <chr> & <chr> & <int>\\\\\n",
       "\\hline\n",
       "\t1 & 2021-05-08 & 61 & Willow       & Taylor Swift & 20\\\\\n",
       "\t2 & 2020-08-29 & 72 & Toosie Slide & Drake        & 20\\\\\n",
       "\t3 & 2020-01-25 & 50 & Lover        & Taylor Swift & 22\\\\\n",
       "\\end{tabular}\n"
      ],
      "text/markdown": [
       "\n",
       "A data.frame: 3 × 5\n",
       "\n",
       "| <!--/--> | date &lt;IDate&gt; | rank &lt;int&gt; | song &lt;chr&gt; | artist &lt;chr&gt; | week_popular &lt;int&gt; |\n",
       "|---|---|---|---|---|---|\n",
       "| 1 | 2021-05-08 | 61 | Willow       | Taylor Swift | 20 |\n",
       "| 2 | 2020-08-29 | 72 | Toosie Slide | Drake        | 20 |\n",
       "| 3 | 2020-01-25 | 50 | Lover        | Taylor Swift | 22 |\n",
       "\n"
      ],
      "text/plain": [
       "  date       rank song         artist       week_popular\n",
       "1 2021-05-08 61   Willow       Taylor Swift 20          \n",
       "2 2020-08-29 72   Toosie Slide Drake        20          \n",
       "3 2020-01-25 50   Lover        Taylor Swift 22          "
      ]
     },
     "metadata": {},
     "output_type": "display_data"
    }
   ],
   "source": [
    "# Filter\n",
    "\n",
    "df %>% \n",
    "    dplyr::select(-'last-week', -'peak-rank', week_popular = 'weeks-on-board') %>%\n",
    "    dplyr::filter(week_popular >= 20, artist == 'Drake' | artist == 'Taylor Swift') %>% \n",
    "    .[c(1:3), ]"
   ]
  },
  {
   "cell_type": "code",
   "execution_count": 9,
   "id": "5c6b621d-6297-433d-b998-b69e878106e2",
   "metadata": {},
   "outputs": [
    {
     "data": {
      "text/html": [
       "<style>\n",
       ".list-inline {list-style: none; margin:0; padding: 0}\n",
       ".list-inline>li {display: inline-block}\n",
       ".list-inline>li:not(:last-child)::after {content: \"\\00b7\"; padding: 0 .5ex}\n",
       "</style>\n",
       "<ol class=list-inline><li>'Toosie Slide'</li><li>'In My Feelings'</li><li>'Nonstop'</li><li>'Nice For What'</li><li>'God\\'s Plan'</li><li>'Passionfruit'</li><li>'Fake Love'</li><li>'Controlla'</li><li>'Hotline Bling'</li><li>'Back To Back'</li><li>'Know Yourself'</li><li>'Energy'</li><li>'0 To 100 / The Catch Up'</li><li>'The Language'</li><li>'Started From The Bottom'</li><li>'Headlines'</li><li>'Find Your Love'</li><li>'Over'</li><li>'Best I Ever Had'</li></ol>\n"
      ],
      "text/latex": [
       "\\begin{enumerate*}\n",
       "\\item 'Toosie Slide'\n",
       "\\item 'In My Feelings'\n",
       "\\item 'Nonstop'\n",
       "\\item 'Nice For What'\n",
       "\\item 'God\\textbackslash{}'s Plan'\n",
       "\\item 'Passionfruit'\n",
       "\\item 'Fake Love'\n",
       "\\item 'Controlla'\n",
       "\\item 'Hotline Bling'\n",
       "\\item 'Back To Back'\n",
       "\\item 'Know Yourself'\n",
       "\\item 'Energy'\n",
       "\\item '0 To 100 / The Catch Up'\n",
       "\\item 'The Language'\n",
       "\\item 'Started From The Bottom'\n",
       "\\item 'Headlines'\n",
       "\\item 'Find Your Love'\n",
       "\\item 'Over'\n",
       "\\item 'Best I Ever Had'\n",
       "\\end{enumerate*}\n"
      ],
      "text/markdown": [
       "1. 'Toosie Slide'\n",
       "2. 'In My Feelings'\n",
       "3. 'Nonstop'\n",
       "4. 'Nice For What'\n",
       "5. 'God\\'s Plan'\n",
       "6. 'Passionfruit'\n",
       "7. 'Fake Love'\n",
       "8. 'Controlla'\n",
       "9. 'Hotline Bling'\n",
       "10. 'Back To Back'\n",
       "11. 'Know Yourself'\n",
       "12. 'Energy'\n",
       "13. '0 To 100 / The Catch Up'\n",
       "14. 'The Language'\n",
       "15. 'Started From The Bottom'\n",
       "16. 'Headlines'\n",
       "17. 'Find Your Love'\n",
       "18. 'Over'\n",
       "19. 'Best I Ever Had'\n",
       "\n",
       "\n"
      ],
      "text/plain": [
       " [1] \"Toosie Slide\"            \"In My Feelings\"         \n",
       " [3] \"Nonstop\"                 \"Nice For What\"          \n",
       " [5] \"God's Plan\"              \"Passionfruit\"           \n",
       " [7] \"Fake Love\"               \"Controlla\"              \n",
       " [9] \"Hotline Bling\"           \"Back To Back\"           \n",
       "[11] \"Know Yourself\"           \"Energy\"                 \n",
       "[13] \"0 To 100 / The Catch Up\" \"The Language\"           \n",
       "[15] \"Started From The Bottom\" \"Headlines\"              \n",
       "[17] \"Find Your Love\"          \"Over\"                   \n",
       "[19] \"Best I Ever Had\"        "
      ]
     },
     "metadata": {},
     "output_type": "display_data"
    }
   ],
   "source": [
    "# Distinct\n",
    "\n",
    "df %>% \n",
    "    dplyr::select(-'last-week', -'peak-rank', week_popular = 'weeks-on-board') %>%\n",
    "    dplyr::filter(week_popular >= 20, artist == 'Drake') %>%\n",
    "    dplyr::distinct(song) %>% \n",
    "    .$song"
   ]
  },
  {
   "cell_type": "code",
   "execution_count": 10,
   "id": "81e45a0c-6aa8-4c90-ba60-ef8ac3f04587",
   "metadata": {},
   "outputs": [
    {
     "data": {
      "text/html": [
       "<table class=\"dataframe\">\n",
       "<caption>A tibble: 19 × 2</caption>\n",
       "<thead>\n",
       "\t<tr><th scope=col>song</th><th scope=col>total_weeks_popular</th></tr>\n",
       "\t<tr><th scope=col>&lt;chr&gt;</th><th scope=col>&lt;int&gt;</th></tr>\n",
       "</thead>\n",
       "<tbody>\n",
       "\t<tr><td>0 To 100 / The Catch Up</td><td>20</td></tr>\n",
       "\t<tr><td>Back To Back           </td><td>20</td></tr>\n",
       "\t<tr><td>Best I Ever Had        </td><td>24</td></tr>\n",
       "\t<tr><td>Controlla              </td><td>26</td></tr>\n",
       "\t<tr><td>Energy                 </td><td>20</td></tr>\n",
       "\t<tr><td>Fake Love              </td><td>25</td></tr>\n",
       "\t<tr><td>Find Your Love         </td><td>21</td></tr>\n",
       "\t<tr><td>God's Plan             </td><td>36</td></tr>\n",
       "\t<tr><td>Headlines              </td><td>25</td></tr>\n",
       "\t<tr><td>Hotline Bling          </td><td>36</td></tr>\n",
       "\t<tr><td>In My Feelings         </td><td>22</td></tr>\n",
       "\t<tr><td>Know Yourself          </td><td>20</td></tr>\n",
       "\t<tr><td>Nice For What          </td><td>25</td></tr>\n",
       "\t<tr><td>Nonstop                </td><td>22</td></tr>\n",
       "\t<tr><td>Over                   </td><td>20</td></tr>\n",
       "\t<tr><td>Passionfruit           </td><td>20</td></tr>\n",
       "\t<tr><td>Started From The Bottom</td><td>22</td></tr>\n",
       "\t<tr><td>The Language           </td><td>20</td></tr>\n",
       "\t<tr><td>Toosie Slide           </td><td>20</td></tr>\n",
       "</tbody>\n",
       "</table>\n"
      ],
      "text/latex": [
       "A tibble: 19 × 2\n",
       "\\begin{tabular}{ll}\n",
       " song & total\\_weeks\\_popular\\\\\n",
       " <chr> & <int>\\\\\n",
       "\\hline\n",
       "\t 0 To 100 / The Catch Up & 20\\\\\n",
       "\t Back To Back            & 20\\\\\n",
       "\t Best I Ever Had         & 24\\\\\n",
       "\t Controlla               & 26\\\\\n",
       "\t Energy                  & 20\\\\\n",
       "\t Fake Love               & 25\\\\\n",
       "\t Find Your Love          & 21\\\\\n",
       "\t God's Plan              & 36\\\\\n",
       "\t Headlines               & 25\\\\\n",
       "\t Hotline Bling           & 36\\\\\n",
       "\t In My Feelings          & 22\\\\\n",
       "\t Know Yourself           & 20\\\\\n",
       "\t Nice For What           & 25\\\\\n",
       "\t Nonstop                 & 22\\\\\n",
       "\t Over                    & 20\\\\\n",
       "\t Passionfruit            & 20\\\\\n",
       "\t Started From The Bottom & 22\\\\\n",
       "\t The Language            & 20\\\\\n",
       "\t Toosie Slide            & 20\\\\\n",
       "\\end{tabular}\n"
      ],
      "text/markdown": [
       "\n",
       "A tibble: 19 × 2\n",
       "\n",
       "| song &lt;chr&gt; | total_weeks_popular &lt;int&gt; |\n",
       "|---|---|\n",
       "| 0 To 100 / The Catch Up | 20 |\n",
       "| Back To Back            | 20 |\n",
       "| Best I Ever Had         | 24 |\n",
       "| Controlla               | 26 |\n",
       "| Energy                  | 20 |\n",
       "| Fake Love               | 25 |\n",
       "| Find Your Love          | 21 |\n",
       "| God's Plan              | 36 |\n",
       "| Headlines               | 25 |\n",
       "| Hotline Bling           | 36 |\n",
       "| In My Feelings          | 22 |\n",
       "| Know Yourself           | 20 |\n",
       "| Nice For What           | 25 |\n",
       "| Nonstop                 | 22 |\n",
       "| Over                    | 20 |\n",
       "| Passionfruit            | 20 |\n",
       "| Started From The Bottom | 22 |\n",
       "| The Language            | 20 |\n",
       "| Toosie Slide            | 20 |\n",
       "\n"
      ],
      "text/plain": [
       "   song                    total_weeks_popular\n",
       "1  0 To 100 / The Catch Up 20                 \n",
       "2  Back To Back            20                 \n",
       "3  Best I Ever Had         24                 \n",
       "4  Controlla               26                 \n",
       "5  Energy                  20                 \n",
       "6  Fake Love               25                 \n",
       "7  Find Your Love          21                 \n",
       "8  God's Plan              36                 \n",
       "9  Headlines               25                 \n",
       "10 Hotline Bling           36                 \n",
       "11 In My Feelings          22                 \n",
       "12 Know Yourself           20                 \n",
       "13 Nice For What           25                 \n",
       "14 Nonstop                 22                 \n",
       "15 Over                    20                 \n",
       "16 Passionfruit            20                 \n",
       "17 Started From The Bottom 22                 \n",
       "18 The Language            20                 \n",
       "19 Toosie Slide            20                 "
      ]
     },
     "metadata": {},
     "output_type": "display_data"
    }
   ],
   "source": [
    "df %>% \n",
    "    dplyr::select(-'last-week', -'peak-rank', week_popular = 'weeks-on-board') %>%\n",
    "    dplyr::filter(week_popular >= 20, artist == 'Drake') %>%\n",
    "    dplyr::group_by(song) %>%\n",
    "    dplyr::summarise(total_weeks_popular = max(week_popular))"
   ]
  },
  {
   "cell_type": "code",
   "execution_count": 11,
   "id": "64121241-8a76-467a-b2e7-7c7976dd8bee",
   "metadata": {},
   "outputs": [
    {
     "data": {
      "text/html": [
       "<table class=\"dataframe\">\n",
       "<caption>A tibble: 10 × 2</caption>\n",
       "<thead>\n",
       "\t<tr><th scope=col>song</th><th scope=col>total_weeks_popular</th></tr>\n",
       "\t<tr><th scope=col>&lt;chr&gt;</th><th scope=col>&lt;int&gt;</th></tr>\n",
       "</thead>\n",
       "<tbody>\n",
       "\t<tr><td>God's Plan             </td><td>36</td></tr>\n",
       "\t<tr><td>Hotline Bling          </td><td>36</td></tr>\n",
       "\t<tr><td>Controlla              </td><td>26</td></tr>\n",
       "\t<tr><td>Fake Love              </td><td>25</td></tr>\n",
       "\t<tr><td>Headlines              </td><td>25</td></tr>\n",
       "\t<tr><td>Nice For What          </td><td>25</td></tr>\n",
       "\t<tr><td>Best I Ever Had        </td><td>24</td></tr>\n",
       "\t<tr><td>In My Feelings         </td><td>22</td></tr>\n",
       "\t<tr><td>Nonstop                </td><td>22</td></tr>\n",
       "\t<tr><td>Started From The Bottom</td><td>22</td></tr>\n",
       "</tbody>\n",
       "</table>\n"
      ],
      "text/latex": [
       "A tibble: 10 × 2\n",
       "\\begin{tabular}{ll}\n",
       " song & total\\_weeks\\_popular\\\\\n",
       " <chr> & <int>\\\\\n",
       "\\hline\n",
       "\t God's Plan              & 36\\\\\n",
       "\t Hotline Bling           & 36\\\\\n",
       "\t Controlla               & 26\\\\\n",
       "\t Fake Love               & 25\\\\\n",
       "\t Headlines               & 25\\\\\n",
       "\t Nice For What           & 25\\\\\n",
       "\t Best I Ever Had         & 24\\\\\n",
       "\t In My Feelings          & 22\\\\\n",
       "\t Nonstop                 & 22\\\\\n",
       "\t Started From The Bottom & 22\\\\\n",
       "\\end{tabular}\n"
      ],
      "text/markdown": [
       "\n",
       "A tibble: 10 × 2\n",
       "\n",
       "| song &lt;chr&gt; | total_weeks_popular &lt;int&gt; |\n",
       "|---|---|\n",
       "| God's Plan              | 36 |\n",
       "| Hotline Bling           | 36 |\n",
       "| Controlla               | 26 |\n",
       "| Fake Love               | 25 |\n",
       "| Headlines               | 25 |\n",
       "| Nice For What           | 25 |\n",
       "| Best I Ever Had         | 24 |\n",
       "| In My Feelings          | 22 |\n",
       "| Nonstop                 | 22 |\n",
       "| Started From The Bottom | 22 |\n",
       "\n"
      ],
      "text/plain": [
       "   song                    total_weeks_popular\n",
       "1  God's Plan              36                 \n",
       "2  Hotline Bling           36                 \n",
       "3  Controlla               26                 \n",
       "4  Fake Love               25                 \n",
       "5  Headlines               25                 \n",
       "6  Nice For What           25                 \n",
       "7  Best I Ever Had         24                 \n",
       "8  In My Feelings          22                 \n",
       "9  Nonstop                 22                 \n",
       "10 Started From The Bottom 22                 "
      ]
     },
     "metadata": {},
     "output_type": "display_data"
    }
   ],
   "source": [
    "df %>% \n",
    "    dplyr::select(-'last-week', -'peak-rank', week_popular = 'weeks-on-board') %>%\n",
    "    dplyr::filter(week_popular >= 20, artist == 'Drake') %>%\n",
    "    dplyr::group_by(song) %>%\n",
    "    dplyr::summarise(total_weeks_popular = max(week_popular)) %>%\n",
    "    dplyr::arrange(desc(total_weeks_popular), song) %>%\n",
    "    head(10)"
   ]
  },
  {
   "cell_type": "code",
   "execution_count": 12,
   "id": "c4afee3e-b30b-41b0-a33a-e4491ed39482",
   "metadata": {},
   "outputs": [
    {
     "data": {
      "text/html": [
       "<table class=\"dataframe\">\n",
       "<caption>A data.frame: 10 × 2</caption>\n",
       "<thead>\n",
       "\t<tr><th></th><th scope=col>artist</th><th scope=col>n</th></tr>\n",
       "\t<tr><th></th><th scope=col>&lt;chr&gt;</th><th scope=col>&lt;int&gt;</th></tr>\n",
       "</thead>\n",
       "<tbody>\n",
       "\t<tr><th scope=row>1</th><td>Taylor Swift </td><td>1023</td></tr>\n",
       "\t<tr><th scope=row>2</th><td>Elton John   </td><td> 889</td></tr>\n",
       "\t<tr><th scope=row>3</th><td>Madonna      </td><td> 857</td></tr>\n",
       "\t<tr><th scope=row>4</th><td>Drake        </td><td> 787</td></tr>\n",
       "\t<tr><th scope=row>5</th><td>Kenny Chesney</td><td> 769</td></tr>\n",
       "\t<tr><th scope=row>6</th><td>Tim McGraw   </td><td> 731</td></tr>\n",
       "\t<tr><th scope=row>7</th><td>Keith Urban  </td><td> 673</td></tr>\n",
       "\t<tr><th scope=row>8</th><td>Stevie Wonder</td><td> 659</td></tr>\n",
       "\t<tr><th scope=row>9</th><td>Rod Stewart  </td><td> 657</td></tr>\n",
       "\t<tr><th scope=row>10</th><td>Mariah Carey </td><td> 621</td></tr>\n",
       "</tbody>\n",
       "</table>\n"
      ],
      "text/latex": [
       "A data.frame: 10 × 2\n",
       "\\begin{tabular}{r|ll}\n",
       "  & artist & n\\\\\n",
       "  & <chr> & <int>\\\\\n",
       "\\hline\n",
       "\t1 & Taylor Swift  & 1023\\\\\n",
       "\t2 & Elton John    &  889\\\\\n",
       "\t3 & Madonna       &  857\\\\\n",
       "\t4 & Drake         &  787\\\\\n",
       "\t5 & Kenny Chesney &  769\\\\\n",
       "\t6 & Tim McGraw    &  731\\\\\n",
       "\t7 & Keith Urban   &  673\\\\\n",
       "\t8 & Stevie Wonder &  659\\\\\n",
       "\t9 & Rod Stewart   &  657\\\\\n",
       "\t10 & Mariah Carey  &  621\\\\\n",
       "\\end{tabular}\n"
      ],
      "text/markdown": [
       "\n",
       "A data.frame: 10 × 2\n",
       "\n",
       "| <!--/--> | artist &lt;chr&gt; | n &lt;int&gt; |\n",
       "|---|---|---|\n",
       "| 1 | Taylor Swift  | 1023 |\n",
       "| 2 | Elton John    |  889 |\n",
       "| 3 | Madonna       |  857 |\n",
       "| 4 | Drake         |  787 |\n",
       "| 5 | Kenny Chesney |  769 |\n",
       "| 6 | Tim McGraw    |  731 |\n",
       "| 7 | Keith Urban   |  673 |\n",
       "| 8 | Stevie Wonder |  659 |\n",
       "| 9 | Rod Stewart   |  657 |\n",
       "| 10 | Mariah Carey  |  621 |\n",
       "\n"
      ],
      "text/plain": [
       "   artist        n   \n",
       "1  Taylor Swift  1023\n",
       "2  Elton John     889\n",
       "3  Madonna        857\n",
       "4  Drake          787\n",
       "5  Kenny Chesney  769\n",
       "6  Tim McGraw     731\n",
       "7  Keith Urban    673\n",
       "8  Stevie Wonder  659\n",
       "9  Rod Stewart    657\n",
       "10 Mariah Carey   621"
      ]
     },
     "metadata": {},
     "output_type": "display_data"
    }
   ],
   "source": [
    "df %>% \n",
    "    dplyr::select(-'last-week', -'peak-rank', week_popular = 'weeks-on-board') %>%\n",
    "    count(artist) %>%\n",
    "    arrange(desc(n)) %>%\n",
    "    .[c(1:10), ]"
   ]
  },
  {
   "cell_type": "code",
   "execution_count": 52,
   "id": "04724c5b-f178-4e07-90ee-bc9b624e11af",
   "metadata": {},
   "outputs": [
    {
     "data": {
      "text/html": [
       "<table class=\"dataframe\">\n",
       "<caption>A data.frame: 10 × 8</caption>\n",
       "<thead>\n",
       "\t<tr><th></th><th scope=col>date</th><th scope=col>rank</th><th scope=col>song</th><th scope=col>artist</th><th scope=col>last_week</th><th scope=col>peak_rank</th><th scope=col>weeks-on-board</th><th scope=col>popular</th></tr>\n",
       "\t<tr><th></th><th scope=col>&lt;IDate&gt;</th><th scope=col>&lt;int&gt;</th><th scope=col>&lt;chr&gt;</th><th scope=col>&lt;chr&gt;</th><th scope=col>&lt;int&gt;</th><th scope=col>&lt;chr&gt;</th><th scope=col>&lt;int&gt;</th><th scope=col>&lt;chr&gt;</th></tr>\n",
       "</thead>\n",
       "<tbody>\n",
       "\t<tr><th scope=row>1</th><td>2021-11-06</td><td> 1</td><td>Easy On Me   </td><td>Adele                              </td><td>1</td><td>low </td><td> 3</td><td>no </td></tr>\n",
       "\t<tr><th scope=row>2</th><td>2021-11-06</td><td> 2</td><td><span style=white-space:pre-wrap>Stay         </span></td><td><span style=white-space:pre-wrap>The Kid LAROI &amp; Justin Bieber      </span></td><td>2</td><td>low </td><td>16</td><td>no </td></tr>\n",
       "\t<tr><th scope=row>3</th><td>2021-11-06</td><td> 3</td><td>Industry Baby</td><td><span style=white-space:pre-wrap>Lil Nas X &amp; Jack Harlow            </span></td><td>3</td><td>low </td><td>14</td><td>no </td></tr>\n",
       "\t<tr><th scope=row>4</th><td>2021-11-06</td><td> 4</td><td>Fancy Like   </td><td>Walker Hayes                       </td><td>4</td><td>high</td><td>19</td><td>yes</td></tr>\n",
       "\t<tr><th scope=row>5</th><td>2021-11-06</td><td> 5</td><td>Bad Habits   </td><td>Ed Sheeran                         </td><td>5</td><td>mid </td><td>18</td><td>no </td></tr>\n",
       "\t<tr><th scope=row>6</th><td>2021-11-06</td><td> 6</td><td><span style=white-space:pre-wrap>Way 2 Sexy   </span></td><td>Drake Featuring Future &amp; Young Thug</td><td>6</td><td>low </td><td> 8</td><td>no </td></tr>\n",
       "\t<tr><th scope=row>7</th><td>2021-11-06</td><td> 8</td><td>Good 4 U     </td><td>Olivia Rodrigo                     </td><td>7</td><td>low </td><td>24</td><td>no </td></tr>\n",
       "\t<tr><th scope=row>8</th><td>2021-11-06</td><td>10</td><td>Levitating   </td><td>Dua Lipa                           </td><td>8</td><td>mid </td><td>56</td><td>no </td></tr>\n",
       "\t<tr><th scope=row>9</th><td>2021-10-30</td><td> 2</td><td><span style=white-space:pre-wrap>Stay         </span></td><td><span style=white-space:pre-wrap>The Kid LAROI &amp; Justin Bieber      </span></td><td>2</td><td>low </td><td>15</td><td>no </td></tr>\n",
       "\t<tr><th scope=row>10</th><td>2021-10-30</td><td> 3</td><td>Industry Baby</td><td><span style=white-space:pre-wrap>Lil Nas X &amp; Jack Harlow            </span></td><td>1</td><td>low </td><td>13</td><td>no </td></tr>\n",
       "</tbody>\n",
       "</table>\n"
      ],
      "text/latex": [
       "A data.frame: 10 × 8\n",
       "\\begin{tabular}{r|llllllll}\n",
       "  & date & rank & song & artist & last\\_week & peak\\_rank & weeks-on-board & popular\\\\\n",
       "  & <IDate> & <int> & <chr> & <chr> & <int> & <chr> & <int> & <chr>\\\\\n",
       "\\hline\n",
       "\t1 & 2021-11-06 &  1 & Easy On Me    & Adele                               & 1 & low  &  3 & no \\\\\n",
       "\t2 & 2021-11-06 &  2 & Stay          & The Kid LAROI \\& Justin Bieber       & 2 & low  & 16 & no \\\\\n",
       "\t3 & 2021-11-06 &  3 & Industry Baby & Lil Nas X \\& Jack Harlow             & 3 & low  & 14 & no \\\\\n",
       "\t4 & 2021-11-06 &  4 & Fancy Like    & Walker Hayes                        & 4 & high & 19 & yes\\\\\n",
       "\t5 & 2021-11-06 &  5 & Bad Habits    & Ed Sheeran                          & 5 & mid  & 18 & no \\\\\n",
       "\t6 & 2021-11-06 &  6 & Way 2 Sexy    & Drake Featuring Future \\& Young Thug & 6 & low  &  8 & no \\\\\n",
       "\t7 & 2021-11-06 &  8 & Good 4 U      & Olivia Rodrigo                      & 7 & low  & 24 & no \\\\\n",
       "\t8 & 2021-11-06 & 10 & Levitating    & Dua Lipa                            & 8 & mid  & 56 & no \\\\\n",
       "\t9 & 2021-10-30 &  2 & Stay          & The Kid LAROI \\& Justin Bieber       & 2 & low  & 15 & no \\\\\n",
       "\t10 & 2021-10-30 &  3 & Industry Baby & Lil Nas X \\& Jack Harlow             & 1 & low  & 13 & no \\\\\n",
       "\\end{tabular}\n"
      ],
      "text/markdown": [
       "\n",
       "A data.frame: 10 × 8\n",
       "\n",
       "| <!--/--> | date &lt;IDate&gt; | rank &lt;int&gt; | song &lt;chr&gt; | artist &lt;chr&gt; | last_week &lt;int&gt; | peak_rank &lt;chr&gt; | weeks-on-board &lt;int&gt; | popular &lt;chr&gt; |\n",
       "|---|---|---|---|---|---|---|---|---|\n",
       "| 1 | 2021-11-06 |  1 | Easy On Me    | Adele                               | 1 | low  |  3 | no  |\n",
       "| 2 | 2021-11-06 |  2 | Stay          | The Kid LAROI &amp; Justin Bieber       | 2 | low  | 16 | no  |\n",
       "| 3 | 2021-11-06 |  3 | Industry Baby | Lil Nas X &amp; Jack Harlow             | 3 | low  | 14 | no  |\n",
       "| 4 | 2021-11-06 |  4 | Fancy Like    | Walker Hayes                        | 4 | high | 19 | yes |\n",
       "| 5 | 2021-11-06 |  5 | Bad Habits    | Ed Sheeran                          | 5 | mid  | 18 | no  |\n",
       "| 6 | 2021-11-06 |  6 | Way 2 Sexy    | Drake Featuring Future &amp; Young Thug | 6 | low  |  8 | no  |\n",
       "| 7 | 2021-11-06 |  8 | Good 4 U      | Olivia Rodrigo                      | 7 | low  | 24 | no  |\n",
       "| 8 | 2021-11-06 | 10 | Levitating    | Dua Lipa                            | 8 | mid  | 56 | no  |\n",
       "| 9 | 2021-10-30 |  2 | Stay          | The Kid LAROI &amp; Justin Bieber       | 2 | low  | 15 | no  |\n",
       "| 10 | 2021-10-30 |  3 | Industry Baby | Lil Nas X &amp; Jack Harlow             | 1 | low  | 13 | no  |\n",
       "\n"
      ],
      "text/plain": [
       "   date       rank song          artist                              last_week\n",
       "1  2021-11-06  1   Easy On Me    Adele                               1        \n",
       "2  2021-11-06  2   Stay          The Kid LAROI & Justin Bieber       2        \n",
       "3  2021-11-06  3   Industry Baby Lil Nas X & Jack Harlow             3        \n",
       "4  2021-11-06  4   Fancy Like    Walker Hayes                        4        \n",
       "5  2021-11-06  5   Bad Habits    Ed Sheeran                          5        \n",
       "6  2021-11-06  6   Way 2 Sexy    Drake Featuring Future & Young Thug 6        \n",
       "7  2021-11-06  8   Good 4 U      Olivia Rodrigo                      7        \n",
       "8  2021-11-06 10   Levitating    Dua Lipa                            8        \n",
       "9  2021-10-30  2   Stay          The Kid LAROI & Justin Bieber       2        \n",
       "10 2021-10-30  3   Industry Baby Lil Nas X & Jack Harlow             1        \n",
       "   peak_rank weeks-on-board popular\n",
       "1  low        3             no     \n",
       "2  low       16             no     \n",
       "3  low       14             no     \n",
       "4  high      19             yes    \n",
       "5  mid       18             no     \n",
       "6  low        8             no     \n",
       "7  low       24             no     \n",
       "8  mid       56             no     \n",
       "9  low       15             no     \n",
       "10 low       13             no     "
      ]
     },
     "metadata": {},
     "output_type": "display_data"
    }
   ],
   "source": [
    "df %>%\n",
    "    rename(peak_rank = 'peak-rank', last_week = 'last-week') %>%\n",
    "    filter(peak_rank %in% c(1, 2, 3)) %>%\n",
    "    mutate(popular = peak_rank > 2, popular = if_else(popular == TRUE, 'yes', 'no')) %>%\n",
    "    mutate(peak_rank = recode(peak_rank, 'low', 'mid', 'high')) %>%\n",
    "    filter(between(last_week, 1, 9)) %>%\n",
    "    na.omit() %>%\n",
    "    .[c(1:10), ]"
   ]
  }
 ],
 "metadata": {
  "kernelspec": {
   "display_name": "R [conda env:ml_data_science_r]",
   "language": "R",
   "name": "conda-env-ml_data_science_r-r"
  },
  "language_info": {
   "codemirror_mode": "r",
   "file_extension": ".r",
   "mimetype": "text/x-r-source",
   "name": "R",
   "pygments_lexer": "r",
   "version": "4.2.3"
  }
 },
 "nbformat": 4,
 "nbformat_minor": 5
}
