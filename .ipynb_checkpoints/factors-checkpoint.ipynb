{
 "cells": [
  {
   "cell_type": "code",
   "execution_count": 79,
   "id": "c26243ed-49da-46c7-9448-64ad4062cc19",
   "metadata": {},
   "outputs": [],
   "source": [
    "library(datasets)\n",
    "library(psych)"
   ]
  },
  {
   "cell_type": "code",
   "execution_count": 172,
   "id": "5b47f62a-2249-4e2a-ab57-0531cc2ca577",
   "metadata": {},
   "outputs": [
    {
     "data": {
      "text/html": [
       "<table class=\"dataframe\">\n",
       "<caption>A data.frame: 6 × 5</caption>\n",
       "<thead>\n",
       "\t<tr><th></th><th scope=col>Sepal.Length</th><th scope=col>Sepal.Width</th><th scope=col>Petal.Length</th><th scope=col>Petal.Width</th><th scope=col>Species</th></tr>\n",
       "\t<tr><th></th><th scope=col>&lt;dbl&gt;</th><th scope=col>&lt;dbl&gt;</th><th scope=col>&lt;dbl&gt;</th><th scope=col>&lt;dbl&gt;</th><th scope=col>&lt;fct&gt;</th></tr>\n",
       "</thead>\n",
       "<tbody>\n",
       "\t<tr><th scope=row>1</th><td>5.1</td><td>3.5</td><td>1.4</td><td>0.2</td><td>setosa</td></tr>\n",
       "\t<tr><th scope=row>2</th><td>4.9</td><td>3.0</td><td>1.4</td><td>0.2</td><td>setosa</td></tr>\n",
       "\t<tr><th scope=row>3</th><td>4.7</td><td>3.2</td><td>1.3</td><td>0.2</td><td>setosa</td></tr>\n",
       "\t<tr><th scope=row>4</th><td>4.6</td><td>3.1</td><td>1.5</td><td>0.2</td><td>setosa</td></tr>\n",
       "\t<tr><th scope=row>5</th><td>5.0</td><td>3.6</td><td>1.4</td><td>0.2</td><td>setosa</td></tr>\n",
       "\t<tr><th scope=row>6</th><td>5.4</td><td>3.9</td><td>1.7</td><td>0.4</td><td>setosa</td></tr>\n",
       "</tbody>\n",
       "</table>\n"
      ],
      "text/latex": [
       "A data.frame: 6 × 5\n",
       "\\begin{tabular}{r|lllll}\n",
       "  & Sepal.Length & Sepal.Width & Petal.Length & Petal.Width & Species\\\\\n",
       "  & <dbl> & <dbl> & <dbl> & <dbl> & <fct>\\\\\n",
       "\\hline\n",
       "\t1 & 5.1 & 3.5 & 1.4 & 0.2 & setosa\\\\\n",
       "\t2 & 4.9 & 3.0 & 1.4 & 0.2 & setosa\\\\\n",
       "\t3 & 4.7 & 3.2 & 1.3 & 0.2 & setosa\\\\\n",
       "\t4 & 4.6 & 3.1 & 1.5 & 0.2 & setosa\\\\\n",
       "\t5 & 5.0 & 3.6 & 1.4 & 0.2 & setosa\\\\\n",
       "\t6 & 5.4 & 3.9 & 1.7 & 0.4 & setosa\\\\\n",
       "\\end{tabular}\n"
      ],
      "text/markdown": [
       "\n",
       "A data.frame: 6 × 5\n",
       "\n",
       "| <!--/--> | Sepal.Length &lt;dbl&gt; | Sepal.Width &lt;dbl&gt; | Petal.Length &lt;dbl&gt; | Petal.Width &lt;dbl&gt; | Species &lt;fct&gt; |\n",
       "|---|---|---|---|---|---|\n",
       "| 1 | 5.1 | 3.5 | 1.4 | 0.2 | setosa |\n",
       "| 2 | 4.9 | 3.0 | 1.4 | 0.2 | setosa |\n",
       "| 3 | 4.7 | 3.2 | 1.3 | 0.2 | setosa |\n",
       "| 4 | 4.6 | 3.1 | 1.5 | 0.2 | setosa |\n",
       "| 5 | 5.0 | 3.6 | 1.4 | 0.2 | setosa |\n",
       "| 6 | 5.4 | 3.9 | 1.7 | 0.4 | setosa |\n",
       "\n"
      ],
      "text/plain": [
       "  Sepal.Length Sepal.Width Petal.Length Petal.Width Species\n",
       "1 5.1          3.5         1.4          0.2         setosa \n",
       "2 4.9          3.0         1.4          0.2         setosa \n",
       "3 4.7          3.2         1.3          0.2         setosa \n",
       "4 4.6          3.1         1.5          0.2         setosa \n",
       "5 5.0          3.6         1.4          0.2         setosa \n",
       "6 5.4          3.9         1.7          0.4         setosa "
      ]
     },
     "metadata": {},
     "output_type": "display_data"
    }
   ],
   "source": [
    "head(iris)"
   ]
  },
  {
   "cell_type": "code",
   "execution_count": 175,
   "id": "774e436f-a1a9-4b9a-a279-79433c48e4cd",
   "metadata": {},
   "outputs": [
    {
     "data": {
      "text/html": [
       "<style>\n",
       ".list-inline {list-style: none; margin:0; padding: 0}\n",
       ".list-inline>li {display: inline-block}\n",
       ".list-inline>li:not(:last-child)::after {content: \"\\00b7\"; padding: 0 .5ex}\n",
       "</style>\n",
       "<ol class=list-inline><li>1</li><li>2</li><li>3</li></ol>\n"
      ],
      "text/latex": [
       "\\begin{enumerate*}\n",
       "\\item 1\n",
       "\\item 2\n",
       "\\item 3\n",
       "\\end{enumerate*}\n"
      ],
      "text/markdown": [
       "1. 1\n",
       "2. 2\n",
       "3. 3\n",
       "\n",
       "\n"
      ],
      "text/plain": [
       "[1] 1 2 3"
      ]
     },
     "metadata": {},
     "output_type": "display_data"
    },
    {
     "data": {
      "text/html": [
       "<style>\n",
       ".list-inline {list-style: none; margin:0; padding: 0}\n",
       ".list-inline>li {display: inline-block}\n",
       ".list-inline>li:not(:last-child)::after {content: \"\\00b7\"; padding: 0 .5ex}\n",
       "</style>\n",
       "<ol class=list-inline><li>1</li><li>2</li><li>3</li><li>4</li><li>5</li><li>6</li><li>7</li><li>8</li><li>9</li></ol>\n"
      ],
      "text/latex": [
       "\\begin{enumerate*}\n",
       "\\item 1\n",
       "\\item 2\n",
       "\\item 3\n",
       "\\item 4\n",
       "\\item 5\n",
       "\\item 6\n",
       "\\item 7\n",
       "\\item 8\n",
       "\\item 9\n",
       "\\end{enumerate*}\n"
      ],
      "text/markdown": [
       "1. 1\n",
       "2. 2\n",
       "3. 3\n",
       "4. 4\n",
       "5. 5\n",
       "6. 6\n",
       "7. 7\n",
       "8. 8\n",
       "9. 9\n",
       "\n",
       "\n"
      ],
      "text/plain": [
       "[1] 1 2 3 4 5 6 7 8 9"
      ]
     },
     "metadata": {},
     "output_type": "display_data"
    }
   ],
   "source": [
    "# Create Data\n",
    "\n",
    "(x1 <- 1:3)\n",
    "(y <- 1:9)"
   ]
  },
  {
   "cell_type": "code",
   "execution_count": 186,
   "id": "55e9067c-777a-4898-86fd-b005fd7c9132",
   "metadata": {},
   "outputs": [
    {
     "data": {
      "text/html": [
       "<table class=\"dataframe\">\n",
       "<caption>A data.frame: 9 × 2</caption>\n",
       "<thead>\n",
       "\t<tr><th scope=col>x1</th><th scope=col>y</th></tr>\n",
       "\t<tr><th scope=col>&lt;int&gt;</th><th scope=col>&lt;int&gt;</th></tr>\n",
       "</thead>\n",
       "<tbody>\n",
       "\t<tr><td>1</td><td>1</td></tr>\n",
       "\t<tr><td>2</td><td>2</td></tr>\n",
       "\t<tr><td>3</td><td>3</td></tr>\n",
       "\t<tr><td>1</td><td>4</td></tr>\n",
       "\t<tr><td>2</td><td>5</td></tr>\n",
       "\t<tr><td>3</td><td>6</td></tr>\n",
       "\t<tr><td>1</td><td>7</td></tr>\n",
       "\t<tr><td>2</td><td>8</td></tr>\n",
       "\t<tr><td>3</td><td>9</td></tr>\n",
       "</tbody>\n",
       "</table>\n"
      ],
      "text/latex": [
       "A data.frame: 9 × 2\n",
       "\\begin{tabular}{ll}\n",
       " x1 & y\\\\\n",
       " <int> & <int>\\\\\n",
       "\\hline\n",
       "\t 1 & 1\\\\\n",
       "\t 2 & 2\\\\\n",
       "\t 3 & 3\\\\\n",
       "\t 1 & 4\\\\\n",
       "\t 2 & 5\\\\\n",
       "\t 3 & 6\\\\\n",
       "\t 1 & 7\\\\\n",
       "\t 2 & 8\\\\\n",
       "\t 3 & 9\\\\\n",
       "\\end{tabular}\n"
      ],
      "text/markdown": [
       "\n",
       "A data.frame: 9 × 2\n",
       "\n",
       "| x1 &lt;int&gt; | y &lt;int&gt; |\n",
       "|---|---|\n",
       "| 1 | 1 |\n",
       "| 2 | 2 |\n",
       "| 3 | 3 |\n",
       "| 1 | 4 |\n",
       "| 2 | 5 |\n",
       "| 3 | 6 |\n",
       "| 1 | 7 |\n",
       "| 2 | 8 |\n",
       "| 3 | 9 |\n",
       "\n"
      ],
      "text/plain": [
       "  x1 y\n",
       "1 1  1\n",
       "2 2  2\n",
       "3 3  3\n",
       "4 1  4\n",
       "5 2  5\n",
       "6 3  6\n",
       "7 1  7\n",
       "8 2  8\n",
       "9 3  9"
      ]
     },
     "metadata": {},
     "output_type": "display_data"
    },
    {
     "data": {
      "text/html": [
       "'list'"
      ],
      "text/latex": [
       "'list'"
      ],
      "text/markdown": [
       "'list'"
      ],
      "text/plain": [
       "[1] \"list\""
      ]
     },
     "metadata": {},
     "output_type": "display_data"
    },
    {
     "data": {
      "text/html": [
       "TRUE"
      ],
      "text/latex": [
       "TRUE"
      ],
      "text/markdown": [
       "TRUE"
      ],
      "text/plain": [
       "[1] TRUE"
      ]
     },
     "metadata": {},
     "output_type": "display_data"
    },
    {
     "name": "stdout",
     "output_type": "stream",
     "text": [
      "'data.frame':\t9 obs. of  2 variables:\n",
      " $ x1: int  1 2 3 1 2 3 1 2 3\n",
      " $ y : int  1 2 3 4 5 6 7 8 9\n"
     ]
    }
   ],
   "source": [
    "# Combine variables\n",
    "\n",
    "(df1 <- cbind.data.frame(x1, y))\n",
    "typeof(df1)\n",
    "is.data.frame(df1)\n",
    "str(df1)"
   ]
  },
  {
   "cell_type": "code",
   "execution_count": 195,
   "id": "d26187b3-6b73-43b8-bada-bedc3a3266b0",
   "metadata": {},
   "outputs": [
    {
     "name": "stdout",
     "output_type": "stream",
     "text": [
      "[1] 1 2 3\n",
      "Levels: 1 2 3\n",
      "  x2\n",
      "1  1\n",
      "2  2\n",
      "3  3\n"
     ]
    },
    {
     "data": {
      "text/html": [
       "'integer'"
      ],
      "text/latex": [
       "'integer'"
      ],
      "text/markdown": [
       "'integer'"
      ],
      "text/plain": [
       "[1] \"integer\""
      ]
     },
     "metadata": {},
     "output_type": "display_data"
    },
    {
     "name": "stdout",
     "output_type": "stream",
     "text": [
      "'data.frame':\t3 obs. of  1 variable:\n",
      " $ x2: Factor w/ 3 levels \"1\",\"2\",\"3\": 1 2 3\n"
     ]
    }
   ],
   "source": [
    "# As.Factor\n",
    "\n",
    "print(x2 <- as.factor(c(1:3)))\n",
    "print(df2 <- cbind.data.frame(x2))\n",
    "typeof(df2$x2)\n",
    "str(df2)"
   ]
  },
  {
   "cell_type": "code",
   "execution_count": 252,
   "id": "76849d08-2818-423f-8291-eae2ad57ae7c",
   "metadata": {},
   "outputs": [
    {
     "data": {
      "text/html": [
       "<table class=\"dataframe\">\n",
       "<caption>A data.frame: 9 × 2</caption>\n",
       "<thead>\n",
       "\t<tr><th scope=col>x3</th><th scope=col>y</th></tr>\n",
       "\t<tr><th scope=col>&lt;fct&gt;</th><th scope=col>&lt;int&gt;</th></tr>\n",
       "</thead>\n",
       "<tbody>\n",
       "\t<tr><td>1</td><td>1</td></tr>\n",
       "\t<tr><td>2</td><td>2</td></tr>\n",
       "\t<tr><td>3</td><td>3</td></tr>\n",
       "\t<tr><td>1</td><td>4</td></tr>\n",
       "\t<tr><td>2</td><td>5</td></tr>\n",
       "\t<tr><td>3</td><td>6</td></tr>\n",
       "\t<tr><td>1</td><td>7</td></tr>\n",
       "\t<tr><td>2</td><td>8</td></tr>\n",
       "\t<tr><td>3</td><td>9</td></tr>\n",
       "</tbody>\n",
       "</table>\n"
      ],
      "text/latex": [
       "A data.frame: 9 × 2\n",
       "\\begin{tabular}{ll}\n",
       " x3 & y\\\\\n",
       " <fct> & <int>\\\\\n",
       "\\hline\n",
       "\t 1 & 1\\\\\n",
       "\t 2 & 2\\\\\n",
       "\t 3 & 3\\\\\n",
       "\t 1 & 4\\\\\n",
       "\t 2 & 5\\\\\n",
       "\t 3 & 6\\\\\n",
       "\t 1 & 7\\\\\n",
       "\t 2 & 8\\\\\n",
       "\t 3 & 9\\\\\n",
       "\\end{tabular}\n"
      ],
      "text/markdown": [
       "\n",
       "A data.frame: 9 × 2\n",
       "\n",
       "| x3 &lt;fct&gt; | y &lt;int&gt; |\n",
       "|---|---|\n",
       "| 1 | 1 |\n",
       "| 2 | 2 |\n",
       "| 3 | 3 |\n",
       "| 1 | 4 |\n",
       "| 2 | 5 |\n",
       "| 3 | 6 |\n",
       "| 1 | 7 |\n",
       "| 2 | 8 |\n",
       "| 3 | 9 |\n",
       "\n"
      ],
      "text/plain": [
       "  x3 y\n",
       "1 1  1\n",
       "2 2  2\n",
       "3 3  3\n",
       "4 1  4\n",
       "5 2  5\n",
       "6 3  6\n",
       "7 1  7\n",
       "8 2  8\n",
       "9 3  9"
      ]
     },
     "metadata": {},
     "output_type": "display_data"
    },
    {
     "data": {
      "text/html": [
       "'integer'"
      ],
      "text/latex": [
       "'integer'"
      ],
      "text/markdown": [
       "'integer'"
      ],
      "text/plain": [
       "[1] \"integer\""
      ]
     },
     "metadata": {},
     "output_type": "display_data"
    },
    {
     "name": "stdout",
     "output_type": "stream",
     "text": [
      "'data.frame':\t9 obs. of  2 variables:\n",
      " $ x3: Factor w/ 3 levels \"1\",\"2\",\"3\": 1 2 3 1 2 3 1 2 3\n",
      " $ y : int  1 2 3 4 5 6 7 8 9\n"
     ]
    }
   ],
   "source": [
    "# Define existing variable as factor\n",
    "\n",
    "x3 <- c(1:3)\n",
    "df3 <- cbind.data.frame(x3, y)\n",
    "df3$x3 <- factor(df3$x3, levels= c(1, 2, 3))\n",
    "df3\n",
    "typeof(df3$x3)\n",
    "str(df3)"
   ]
  },
  {
   "cell_type": "code",
   "execution_count": 251,
   "id": "c44b4c7d-19cd-46b1-88b7-889045661b83",
   "metadata": {},
   "outputs": [
    {
     "data": {
      "text/html": [
       "<table class=\"dataframe\">\n",
       "<caption>A data.frame: 9 × 2</caption>\n",
       "<thead>\n",
       "\t<tr><th scope=col>x4</th><th scope=col>y</th></tr>\n",
       "\t<tr><th scope=col>&lt;fct&gt;</th><th scope=col>&lt;int&gt;</th></tr>\n",
       "</thead>\n",
       "<tbody>\n",
       "\t<tr><td>macOS  </td><td>1</td></tr>\n",
       "\t<tr><td>Windows</td><td>2</td></tr>\n",
       "\t<tr><td>Linux  </td><td>3</td></tr>\n",
       "\t<tr><td>macOS  </td><td>4</td></tr>\n",
       "\t<tr><td>Windows</td><td>5</td></tr>\n",
       "\t<tr><td>Linux  </td><td>6</td></tr>\n",
       "\t<tr><td>macOS  </td><td>7</td></tr>\n",
       "\t<tr><td>Windows</td><td>8</td></tr>\n",
       "\t<tr><td>Linux  </td><td>9</td></tr>\n",
       "</tbody>\n",
       "</table>\n"
      ],
      "text/latex": [
       "A data.frame: 9 × 2\n",
       "\\begin{tabular}{ll}\n",
       " x4 & y\\\\\n",
       " <fct> & <int>\\\\\n",
       "\\hline\n",
       "\t macOS   & 1\\\\\n",
       "\t Windows & 2\\\\\n",
       "\t Linux   & 3\\\\\n",
       "\t macOS   & 4\\\\\n",
       "\t Windows & 5\\\\\n",
       "\t Linux   & 6\\\\\n",
       "\t macOS   & 7\\\\\n",
       "\t Windows & 8\\\\\n",
       "\t Linux   & 9\\\\\n",
       "\\end{tabular}\n"
      ],
      "text/markdown": [
       "\n",
       "A data.frame: 9 × 2\n",
       "\n",
       "| x4 &lt;fct&gt; | y &lt;int&gt; |\n",
       "|---|---|\n",
       "| macOS   | 1 |\n",
       "| Windows | 2 |\n",
       "| Linux   | 3 |\n",
       "| macOS   | 4 |\n",
       "| Windows | 5 |\n",
       "| Linux   | 6 |\n",
       "| macOS   | 7 |\n",
       "| Windows | 8 |\n",
       "| Linux   | 9 |\n",
       "\n"
      ],
      "text/plain": [
       "  x4      y\n",
       "1 macOS   1\n",
       "2 Windows 2\n",
       "3 Linux   3\n",
       "4 macOS   4\n",
       "5 Windows 5\n",
       "6 Linux   6\n",
       "7 macOS   7\n",
       "8 Windows 8\n",
       "9 Linux   9"
      ]
     },
     "metadata": {},
     "output_type": "display_data"
    },
    {
     "data": {
      "text/html": [
       "'integer'"
      ],
      "text/latex": [
       "'integer'"
      ],
      "text/markdown": [
       "'integer'"
      ],
      "text/plain": [
       "[1] \"integer\""
      ]
     },
     "metadata": {},
     "output_type": "display_data"
    },
    {
     "name": "stdout",
     "output_type": "stream",
     "text": [
      "'data.frame':\t9 obs. of  2 variables:\n",
      " $ x4: Factor w/ 3 levels \"macOS\",\"Windows\",..: 1 2 3 1 2 3 1 2 3\n",
      " $ y : int  1 2 3 4 5 6 7 8 9\n"
     ]
    }
   ],
   "source": [
    "# Labels for factor\n",
    "\n",
    "x4 <- c(1:3)\n",
    "df4 <- cbind.data.frame(x4, y)\n",
    "df4$x4 <- factor(df4$x4, levels = c(1, 2, 3), labels = c('macOS', 'Windows', 'Linux'))\n",
    "df4\n",
    "typeof(df4$x4)\n",
    "str(df4)"
   ]
  },
  {
   "cell_type": "code",
   "execution_count": 223,
   "id": "bbd614ff-fcc3-4808-a783-aa7cb9863f48",
   "metadata": {},
   "outputs": [
    {
     "data": {
      "text/html": [
       "<table class=\"dataframe\">\n",
       "<caption>A data.frame: 3 × 2</caption>\n",
       "<thead>\n",
       "\t<tr><th></th><th scope=col>x4</th><th scope=col>y</th></tr>\n",
       "\t<tr><th></th><th scope=col>&lt;fct&gt;</th><th scope=col>&lt;int&gt;</th></tr>\n",
       "</thead>\n",
       "<tbody>\n",
       "\t<tr><th scope=row>1</th><td>macOS</td><td>1</td></tr>\n",
       "\t<tr><th scope=row>4</th><td>macOS</td><td>4</td></tr>\n",
       "\t<tr><th scope=row>7</th><td>macOS</td><td>7</td></tr>\n",
       "</tbody>\n",
       "</table>\n"
      ],
      "text/latex": [
       "A data.frame: 3 × 2\n",
       "\\begin{tabular}{r|ll}\n",
       "  & x4 & y\\\\\n",
       "  & <fct> & <int>\\\\\n",
       "\\hline\n",
       "\t1 & macOS & 1\\\\\n",
       "\t4 & macOS & 4\\\\\n",
       "\t7 & macOS & 7\\\\\n",
       "\\end{tabular}\n"
      ],
      "text/markdown": [
       "\n",
       "A data.frame: 3 × 2\n",
       "\n",
       "| <!--/--> | x4 &lt;fct&gt; | y &lt;int&gt; |\n",
       "|---|---|---|\n",
       "| 1 | macOS | 1 |\n",
       "| 4 | macOS | 4 |\n",
       "| 7 | macOS | 7 |\n",
       "\n"
      ],
      "text/plain": [
       "  x4    y\n",
       "1 macOS 1\n",
       "4 macOS 4\n",
       "7 macOS 7"
      ]
     },
     "metadata": {},
     "output_type": "display_data"
    }
   ],
   "source": [
    "df4[df4$x4 == 'macOS', ]"
   ]
  },
  {
   "cell_type": "code",
   "execution_count": 241,
   "id": "f5bf4e24-fcf4-43a1-ac71-30f82f622902",
   "metadata": {},
   "outputs": [
    {
     "data": {
      "text/html": [
       "<table class=\"dataframe\">\n",
       "<caption>A data.frame: 9 × 2</caption>\n",
       "<thead>\n",
       "\t<tr><th scope=col>t1</th><th scope=col>y</th></tr>\n",
       "\t<tr><th scope=col>&lt;fct&gt;</th><th scope=col>&lt;int&gt;</th></tr>\n",
       "</thead>\n",
       "<tbody>\n",
       "\t<tr><td>a_val</td><td>1</td></tr>\n",
       "\t<tr><td>b_val</td><td>2</td></tr>\n",
       "\t<tr><td>c_val</td><td>3</td></tr>\n",
       "\t<tr><td>a_val</td><td>4</td></tr>\n",
       "\t<tr><td>b_val</td><td>5</td></tr>\n",
       "\t<tr><td>c_val</td><td>6</td></tr>\n",
       "\t<tr><td>a_val</td><td>7</td></tr>\n",
       "\t<tr><td>b_val</td><td>8</td></tr>\n",
       "\t<tr><td>c_val</td><td>9</td></tr>\n",
       "</tbody>\n",
       "</table>\n"
      ],
      "text/latex": [
       "A data.frame: 9 × 2\n",
       "\\begin{tabular}{ll}\n",
       " t1 & y\\\\\n",
       " <fct> & <int>\\\\\n",
       "\\hline\n",
       "\t a\\_val & 1\\\\\n",
       "\t b\\_val & 2\\\\\n",
       "\t c\\_val & 3\\\\\n",
       "\t a\\_val & 4\\\\\n",
       "\t b\\_val & 5\\\\\n",
       "\t c\\_val & 6\\\\\n",
       "\t a\\_val & 7\\\\\n",
       "\t b\\_val & 8\\\\\n",
       "\t c\\_val & 9\\\\\n",
       "\\end{tabular}\n"
      ],
      "text/markdown": [
       "\n",
       "A data.frame: 9 × 2\n",
       "\n",
       "| t1 &lt;fct&gt; | y &lt;int&gt; |\n",
       "|---|---|\n",
       "| a_val | 1 |\n",
       "| b_val | 2 |\n",
       "| c_val | 3 |\n",
       "| a_val | 4 |\n",
       "| b_val | 5 |\n",
       "| c_val | 6 |\n",
       "| a_val | 7 |\n",
       "| b_val | 8 |\n",
       "| c_val | 9 |\n",
       "\n"
      ],
      "text/plain": [
       "  t1    y\n",
       "1 a_val 1\n",
       "2 b_val 2\n",
       "3 c_val 3\n",
       "4 a_val 4\n",
       "5 b_val 5\n",
       "6 c_val 6\n",
       "7 a_val 7\n",
       "8 b_val 8\n",
       "9 c_val 9"
      ]
     },
     "metadata": {},
     "output_type": "display_data"
    },
    {
     "name": "stdout",
     "output_type": "stream",
     "text": [
      "'data.frame':\t9 obs. of  2 variables:\n",
      " $ t1: Factor w/ 3 levels \"a_val\",\"b_val\",..: 1 2 3 1 2 3 1 2 3\n",
      " $ y : int  1 2 3 4 5 6 7 8 9\n"
     ]
    }
   ],
   "source": [
    "t1 <- c('a', 'b', 'c')\n",
    "df_t <- cbind.data.frame(t1, y)\n",
    "df_t$t1 <- factor(df_t$t1, levels = c('a', 'b', 'c'), labels = c('a_val', 'b_val', 'c_val'))\n",
    "df_t\n",
    "str(df_t)"
   ]
  },
  {
   "cell_type": "code",
   "execution_count": 250,
   "id": "1b29faf8-b7f9-4710-beee-f98ef0565a68",
   "metadata": {},
   "outputs": [
    {
     "data": {
      "text/html": [
       "<table class=\"dataframe\">\n",
       "<caption>A data.frame: 9 × 2</caption>\n",
       "<thead>\n",
       "\t<tr><th scope=col>x5</th><th scope=col>y</th></tr>\n",
       "\t<tr><th scope=col>&lt;ord&gt;</th><th scope=col>&lt;int&gt;</th></tr>\n",
       "</thead>\n",
       "<tbody>\n",
       "\t<tr><td>Maybe</td><td>1</td></tr>\n",
       "\t<tr><td>Yes  </td><td>2</td></tr>\n",
       "\t<tr><td>No   </td><td>3</td></tr>\n",
       "\t<tr><td>Maybe</td><td>4</td></tr>\n",
       "\t<tr><td>Yes  </td><td>5</td></tr>\n",
       "\t<tr><td>No   </td><td>6</td></tr>\n",
       "\t<tr><td>Maybe</td><td>7</td></tr>\n",
       "\t<tr><td>Yes  </td><td>8</td></tr>\n",
       "\t<tr><td>No   </td><td>9</td></tr>\n",
       "</tbody>\n",
       "</table>\n"
      ],
      "text/latex": [
       "A data.frame: 9 × 2\n",
       "\\begin{tabular}{ll}\n",
       " x5 & y\\\\\n",
       " <ord> & <int>\\\\\n",
       "\\hline\n",
       "\t Maybe & 1\\\\\n",
       "\t Yes   & 2\\\\\n",
       "\t No    & 3\\\\\n",
       "\t Maybe & 4\\\\\n",
       "\t Yes   & 5\\\\\n",
       "\t No    & 6\\\\\n",
       "\t Maybe & 7\\\\\n",
       "\t Yes   & 8\\\\\n",
       "\t No    & 9\\\\\n",
       "\\end{tabular}\n"
      ],
      "text/markdown": [
       "\n",
       "A data.frame: 9 × 2\n",
       "\n",
       "| x5 &lt;ord&gt; | y &lt;int&gt; |\n",
       "|---|---|\n",
       "| Maybe | 1 |\n",
       "| Yes   | 2 |\n",
       "| No    | 3 |\n",
       "| Maybe | 4 |\n",
       "| Yes   | 5 |\n",
       "| No    | 6 |\n",
       "| Maybe | 7 |\n",
       "| Yes   | 8 |\n",
       "| No    | 9 |\n",
       "\n"
      ],
      "text/plain": [
       "  x5    y\n",
       "1 Maybe 1\n",
       "2 Yes   2\n",
       "3 No    3\n",
       "4 Maybe 4\n",
       "5 Yes   5\n",
       "6 No    6\n",
       "7 Maybe 7\n",
       "8 Yes   8\n",
       "9 No    9"
      ]
     },
     "metadata": {},
     "output_type": "display_data"
    },
    {
     "data": {
      "text/html": [
       "'list'"
      ],
      "text/latex": [
       "'list'"
      ],
      "text/markdown": [
       "'list'"
      ],
      "text/plain": [
       "[1] \"list\""
      ]
     },
     "metadata": {},
     "output_type": "display_data"
    },
    {
     "name": "stdout",
     "output_type": "stream",
     "text": [
      "'data.frame':\t9 obs. of  2 variables:\n",
      " $ x5: Ord.factor w/ 3 levels \"No\"<\"Maybe\"<\"Yes\": 2 3 1 2 3 1 2 3 1\n",
      " $ y : int  1 2 3 4 5 6 7 8 9\n"
     ]
    }
   ],
   "source": [
    "x5 <- c(1:3)\n",
    "df5 <- cbind.data.frame(x5, y)\n",
    "df5$x5 <- ordered(df5$x5, levels = c(3, 1, 2), labels = c('No', 'Maybe', 'Yes'))\n",
    "df5\n",
    "typeof(df5$x5)\n",
    "str(df5)"
   ]
  }
 ],
 "metadata": {
  "kernelspec": {
   "display_name": "R [conda env:ml_data_science_r]",
   "language": "R",
   "name": "conda-env-ml_data_science_r-r"
  },
  "language_info": {
   "codemirror_mode": "r",
   "file_extension": ".r",
   "mimetype": "text/x-r-source",
   "name": "R",
   "pygments_lexer": "r",
   "version": "4.2.3"
  }
 },
 "nbformat": 4,
 "nbformat_minor": 5
}
