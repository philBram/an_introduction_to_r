{
 "cells": [
  {
   "cell_type": "markdown",
   "id": "7da09096-42e9-4b5f-8a1e-b0d9fac8bb72",
   "metadata": {},
   "source": [
    "## Numeric"
   ]
  },
  {
   "cell_type": "code",
   "execution_count": 5,
   "id": "5c3ad184-125e-4303-a222-d85e8966db16",
   "metadata": {},
   "outputs": [
    {
     "name": "stdout",
     "output_type": "stream",
     "text": [
      "[1] 15\n"
     ]
    }
   ],
   "source": [
    "n1 <- 15\n",
    "print(n1)"
   ]
  },
  {
   "cell_type": "code",
   "execution_count": 3,
   "id": "8a3755ef-ee73-4744-ad83-1586ab1bd779",
   "metadata": {},
   "outputs": [
    {
     "data": {
      "text/html": [
       "'double'"
      ],
      "text/latex": [
       "'double'"
      ],
      "text/markdown": [
       "'double'"
      ],
      "text/plain": [
       "[1] \"double\""
      ]
     },
     "metadata": {},
     "output_type": "display_data"
    }
   ],
   "source": [
    "typeof(n1)"
   ]
  },
  {
   "cell_type": "code",
   "execution_count": 6,
   "id": "0955a415-84b9-4a93-b202-08bc789fe04f",
   "metadata": {},
   "outputs": [
    {
     "name": "stdout",
     "output_type": "stream",
     "text": [
      "[1] 1.5\n"
     ]
    }
   ],
   "source": [
    "n2 <- 1.5\n",
    "print(n2)"
   ]
  },
  {
   "cell_type": "code",
   "execution_count": 8,
   "id": "0d5821bd-ddf4-46ea-9f57-0932119ea068",
   "metadata": {},
   "outputs": [
    {
     "data": {
      "text/html": [
       "'double'"
      ],
      "text/latex": [
       "'double'"
      ],
      "text/markdown": [
       "'double'"
      ],
      "text/plain": [
       "[1] \"double\""
      ]
     },
     "metadata": {},
     "output_type": "display_data"
    }
   ],
   "source": [
    "typeof(n2)"
   ]
  },
  {
   "cell_type": "markdown",
   "id": "322780e5-19c6-44a0-909d-e873c20e4568",
   "metadata": {},
   "source": [
    "## Character"
   ]
  },
  {
   "cell_type": "code",
   "execution_count": 14,
   "id": "d117f32d-1aae-414c-bc19-69b28bb3a677",
   "metadata": {},
   "outputs": [
    {
     "name": "stdout",
     "output_type": "stream",
     "text": [
      "[1] \"c\"\n"
     ]
    }
   ],
   "source": [
    "c1 <- 'c'\n",
    "print(c1)"
   ]
  },
  {
   "cell_type": "code",
   "execution_count": 15,
   "id": "c27e4b0b-1640-4c9f-859f-262648dd98fd",
   "metadata": {},
   "outputs": [
    {
     "data": {
      "text/html": [
       "'character'"
      ],
      "text/latex": [
       "'character'"
      ],
      "text/markdown": [
       "'character'"
      ],
      "text/plain": [
       "[1] \"character\""
      ]
     },
     "metadata": {},
     "output_type": "display_data"
    }
   ],
   "source": [
    "typeof(c1)"
   ]
  },
  {
   "cell_type": "code",
   "execution_count": 16,
   "id": "a9ae87a8-242c-4aac-9af9-fb3f41042b1e",
   "metadata": {},
   "outputs": [
    {
     "name": "stdout",
     "output_type": "stream",
     "text": [
      "[1] \"a string of text\"\n"
     ]
    }
   ],
   "source": [
    "c2 <- 'a string of text'\n",
    "print(c2)"
   ]
  },
  {
   "cell_type": "code",
   "execution_count": 18,
   "id": "43b4e94a-1e8b-478b-87d9-1245af1ad120",
   "metadata": {},
   "outputs": [
    {
     "data": {
      "text/html": [
       "'character'"
      ],
      "text/latex": [
       "'character'"
      ],
      "text/markdown": [
       "'character'"
      ],
      "text/plain": [
       "[1] \"character\""
      ]
     },
     "metadata": {},
     "output_type": "display_data"
    }
   ],
   "source": [
    "typeof(c2)"
   ]
  },
  {
   "cell_type": "markdown",
   "id": "286a0cc6-cdcd-4582-921c-e97a14cc014a",
   "metadata": {},
   "source": [
    "## Logical"
   ]
  },
  {
   "cell_type": "code",
   "execution_count": 29,
   "id": "65cd7b46-a250-40c2-ad09-1d29ed54256d",
   "metadata": {},
   "outputs": [
    {
     "name": "stdout",
     "output_type": "stream",
     "text": [
      "[1] TRUE\n"
     ]
    }
   ],
   "source": [
    "l1 <- TRUE\n",
    "#l1 <- T\n",
    "print(l1)"
   ]
  },
  {
   "cell_type": "code",
   "execution_count": 30,
   "id": "a907fc8a-5af1-4798-8276-bc30fea08505",
   "metadata": {},
   "outputs": [
    {
     "data": {
      "text/html": [
       "'logical'"
      ],
      "text/latex": [
       "'logical'"
      ],
      "text/markdown": [
       "'logical'"
      ],
      "text/plain": [
       "[1] \"logical\""
      ]
     },
     "metadata": {},
     "output_type": "display_data"
    }
   ],
   "source": [
    "typeof(l1)"
   ]
  },
  {
   "cell_type": "code",
   "execution_count": 31,
   "id": "c65f436b-2faa-4ff9-bd89-3349c1dfbdff",
   "metadata": {},
   "outputs": [
    {
     "name": "stdout",
     "output_type": "stream",
     "text": [
      "[1] FALSE\n"
     ]
    }
   ],
   "source": [
    "l2 <- FALSE\n",
    "#l2 <- F\n",
    "print(l2)"
   ]
  },
  {
   "cell_type": "code",
   "execution_count": 32,
   "id": "0d91bbb0-c9d8-4b70-8093-c4b8614c4b9d",
   "metadata": {},
   "outputs": [
    {
     "data": {
      "text/html": [
       "'logical'"
      ],
      "text/latex": [
       "'logical'"
      ],
      "text/markdown": [
       "'logical'"
      ],
      "text/plain": [
       "[1] \"logical\""
      ]
     },
     "metadata": {},
     "output_type": "display_data"
    }
   ],
   "source": [
    "typeof(l2)"
   ]
  },
  {
   "cell_type": "markdown",
   "id": "da2d9ed1-d40c-4030-ae03-0bc91820b6ce",
   "metadata": {},
   "source": [
    "## Vector"
   ]
  },
  {
   "cell_type": "code",
   "execution_count": 33,
   "id": "0343877a-b5c3-41cb-9f8e-d0375e0399a7",
   "metadata": {},
   "outputs": [
    {
     "name": "stdout",
     "output_type": "stream",
     "text": [
      "[1] 2 1 3 5\n"
     ]
    }
   ],
   "source": [
    "v1 <- c(2, 1, 3, 5)\n",
    "print(v1)"
   ]
  },
  {
   "cell_type": "code",
   "execution_count": 35,
   "id": "fc3a4d4c-3a0f-44d3-b07f-8ae3f2a94e85",
   "metadata": {},
   "outputs": [
    {
     "data": {
      "text/html": [
       "TRUE"
      ],
      "text/latex": [
       "TRUE"
      ],
      "text/markdown": [
       "TRUE"
      ],
      "text/plain": [
       "[1] TRUE"
      ]
     },
     "metadata": {},
     "output_type": "display_data"
    }
   ],
   "source": [
    "is.vector(v1)"
   ]
  },
  {
   "cell_type": "code",
   "execution_count": 36,
   "id": "1967133c-1589-462f-80f8-ae06f249b37c",
   "metadata": {},
   "outputs": [
    {
     "name": "stdout",
     "output_type": "stream",
     "text": [
      "[1] \"a\" \"b\" \"c\"\n"
     ]
    }
   ],
   "source": [
    "v2 <- c('a', 'b', 'c')\n",
    "print(v2)"
   ]
  },
  {
   "cell_type": "code",
   "execution_count": 38,
   "id": "09e2a8e8-5f51-4a01-9674-a131f80d14a8",
   "metadata": {},
   "outputs": [
    {
     "data": {
      "text/html": [
       "TRUE"
      ],
      "text/latex": [
       "TRUE"
      ],
      "text/markdown": [
       "TRUE"
      ],
      "text/plain": [
       "[1] TRUE"
      ]
     },
     "metadata": {},
     "output_type": "display_data"
    }
   ],
   "source": [
    "is.vector(v2)"
   ]
  },
  {
   "cell_type": "code",
   "execution_count": 40,
   "id": "b8b82508-9c08-4b58-bf34-8a05ec633062",
   "metadata": {},
   "outputs": [
    {
     "name": "stdout",
     "output_type": "stream",
     "text": [
      "[1]  TRUE  TRUE FALSE FALSE  TRUE\n"
     ]
    }
   ],
   "source": [
    "v3 <- c(T, T, F, FALSE, TRUE)\n",
    "print(v3)"
   ]
  },
  {
   "cell_type": "code",
   "execution_count": 41,
   "id": "a5071e20-48ef-4518-839f-78ee5bf5bba7",
   "metadata": {},
   "outputs": [
    {
     "data": {
      "text/html": [
       "TRUE"
      ],
      "text/latex": [
       "TRUE"
      ],
      "text/markdown": [
       "TRUE"
      ],
      "text/plain": [
       "[1] TRUE"
      ]
     },
     "metadata": {},
     "output_type": "display_data"
    }
   ],
   "source": [
    "is.vector(v3)"
   ]
  },
  {
   "cell_type": "markdown",
   "id": "0609a30c-d3aa-4361-9c29-59e6193ae2c3",
   "metadata": {},
   "source": [
    "## Matrix"
   ]
  },
  {
   "cell_type": "code",
   "execution_count": 49,
   "id": "50068c86-0367-4628-abb7-352bf0b705ec",
   "metadata": {},
   "outputs": [
    {
     "name": "stdout",
     "output_type": "stream",
     "text": [
      "     [,1]  [,2]  [,3]\n",
      "[1,] TRUE FALSE  TRUE\n",
      "[2,] TRUE FALSE FALSE\n"
     ]
    }
   ],
   "source": [
    "m1 <- matrix(c(T, T, F, F, T, F), nrow = 2)\n",
    "print(m1)"
   ]
  },
  {
   "cell_type": "code",
   "execution_count": 50,
   "id": "edd19104-0c62-43c5-a74e-1e8ff4773d4e",
   "metadata": {},
   "outputs": [
    {
     "data": {
      "text/html": [
       "TRUE"
      ],
      "text/latex": [
       "TRUE"
      ],
      "text/markdown": [
       "TRUE"
      ],
      "text/plain": [
       "[1] TRUE"
      ]
     },
     "metadata": {},
     "output_type": "display_data"
    }
   ],
   "source": [
    "is.matrix(m1)"
   ]
  },
  {
   "cell_type": "code",
   "execution_count": 61,
   "id": "177f8c1d-8b7a-40c2-a3e4-c359d0c60029",
   "metadata": {},
   "outputs": [
    {
     "name": "stdout",
     "output_type": "stream",
     "text": [
      "     [,1] [,2]\n",
      "[1,] \"a\"  \"b\" \n",
      "[2,] \"c\"  \"d\" \n"
     ]
    }
   ],
   "source": [
    "m2 <- matrix(c('a', 'b',\n",
    "               'c', 'd'),\n",
    "                nrow = 2,\n",
    "                byrow = T)\n",
    "\n",
    "print(m2)"
   ]
  },
  {
   "cell_type": "code",
   "execution_count": 62,
   "id": "a68031b8-f62b-4713-bad4-359b04f95cff",
   "metadata": {},
   "outputs": [
    {
     "name": "stdout",
     "output_type": "stream",
     "text": [
      "     [,1] [,2]\n",
      "[1,] \"a\"  \"c\" \n",
      "[2,] \"b\"  \"d\" \n"
     ]
    }
   ],
   "source": [
    "m3 <- matrix(c('a', 'b',\n",
    "               'c', 'd'),\n",
    "                nrow = 2,\n",
    "                byrow = F)\n",
    "\n",
    "print(m3)"
   ]
  },
  {
   "cell_type": "markdown",
   "id": "3bfaedd5-06a3-419f-88da-1df356f3d2b4",
   "metadata": {},
   "source": [
    "## Array"
   ]
  },
  {
   "cell_type": "code",
   "execution_count": 78,
   "id": "9029a041-3329-4ef1-9d8d-0962b6a0fd5a",
   "metadata": {},
   "outputs": [
    {
     "name": "stdout",
     "output_type": "stream",
     "text": [
      ", , 1\n",
      "\n",
      "     [,1] [,2] [,3]\n",
      "[1,]    1    5    9\n",
      "[2,]    2    6   10\n",
      "[3,]    3    7   11\n",
      "[4,]    4    8   12\n",
      "\n",
      ", , 2\n",
      "\n",
      "     [,1] [,2] [,3]\n",
      "[1,]   13   17   21\n",
      "[2,]   14   18   22\n",
      "[3,]   15   19   23\n",
      "[4,]   16   20   24\n",
      "\n"
     ]
    }
   ],
   "source": [
    "a1 <- array(c(1:24), dim = c(4, 3, 2))\n",
    "print(a1)"
   ]
  },
  {
   "cell_type": "code",
   "execution_count": 79,
   "id": "98adc7e1-b2d1-4f73-b065-eca9102a0d34",
   "metadata": {},
   "outputs": [
    {
     "data": {
      "text/html": [
       "TRUE"
      ],
      "text/latex": [
       "TRUE"
      ],
      "text/markdown": [
       "TRUE"
      ],
      "text/plain": [
       "[1] TRUE"
      ]
     },
     "metadata": {},
     "output_type": "display_data"
    }
   ],
   "source": [
    "is.array(a1)"
   ]
  },
  {
   "cell_type": "code",
   "execution_count": 93,
   "id": "48150bea-0cdc-438c-b796-45b29bcd827a",
   "metadata": {},
   "outputs": [
    {
     "name": "stdout",
     "output_type": "stream",
     "text": [
      "[1] 18\n"
     ]
    }
   ],
   "source": [
    "print(a1[2, 2, 2])"
   ]
  },
  {
   "cell_type": "markdown",
   "id": "c2d72d88-a1e9-46c2-92c3-ed44a4ec4a97",
   "metadata": {},
   "source": [
    "## Data frame"
   ]
  },
  {
   "cell_type": "code",
   "execution_count": 112,
   "id": "3de87252-ff87-4fbc-b96a-4161f1af1a41",
   "metadata": {},
   "outputs": [
    {
     "data": {
      "text/html": [
       "<table class=\"dataframe\">\n",
       "<caption>A data.frame: 3 × 3</caption>\n",
       "<thead>\n",
       "\t<tr><th scope=col>v_numeric</th><th scope=col>v_character</th><th scope=col>v_logical</th></tr>\n",
       "\t<tr><th scope=col>&lt;chr&gt;</th><th scope=col>&lt;chr&gt;</th><th scope=col>&lt;chr&gt;</th></tr>\n",
       "</thead>\n",
       "<tbody>\n",
       "\t<tr><td>1</td><td>a</td><td>TRUE </td></tr>\n",
       "\t<tr><td>2</td><td>b</td><td>FALSE</td></tr>\n",
       "\t<tr><td>3</td><td>c</td><td>TRUE </td></tr>\n",
       "</tbody>\n",
       "</table>\n"
      ],
      "text/latex": [
       "A data.frame: 3 × 3\n",
       "\\begin{tabular}{lll}\n",
       " v\\_numeric & v\\_character & v\\_logical\\\\\n",
       " <chr> & <chr> & <chr>\\\\\n",
       "\\hline\n",
       "\t 1 & a & TRUE \\\\\n",
       "\t 2 & b & FALSE\\\\\n",
       "\t 3 & c & TRUE \\\\\n",
       "\\end{tabular}\n"
      ],
      "text/markdown": [
       "\n",
       "A data.frame: 3 × 3\n",
       "\n",
       "| v_numeric &lt;chr&gt; | v_character &lt;chr&gt; | v_logical &lt;chr&gt; |\n",
       "|---|---|---|\n",
       "| 1 | a | TRUE  |\n",
       "| 2 | b | FALSE |\n",
       "| 3 | c | TRUE  |\n",
       "\n"
      ],
      "text/plain": [
       "  v_numeric v_character v_logical\n",
       "1 1         a           TRUE     \n",
       "2 2         b           FALSE    \n",
       "3 3         c           TRUE     "
      ]
     },
     "metadata": {},
     "output_type": "display_data"
    }
   ],
   "source": [
    "v_numeric <- c(1, 2, 3)\n",
    "v_character <- c('a', 'b', 'c')\n",
    "v_logical <- c(T, F, T)\n",
    "df1 <- as.data.frame(cbind(v_numeric, v_character, v_logical))\n",
    "df1"
   ]
  },
  {
   "cell_type": "markdown",
   "id": "b4885670-ca70-469d-b130-4465765ae85f",
   "metadata": {},
   "source": [
    "## List"
   ]
  },
  {
   "cell_type": "code",
   "execution_count": 119,
   "id": "2d9cccde-7c5f-461f-b0f6-2831d0b83510",
   "metadata": {},
   "outputs": [
    {
     "name": "stdout",
     "output_type": "stream",
     "text": [
      "[[1]]\n",
      "[1] 1 2 3\n",
      "\n",
      "[[2]]\n",
      "[1] \"a\" \"b\" \"c\" \"d\"\n",
      "\n",
      "[[3]]\n",
      "[1]  TRUE FALSE  TRUE  TRUE FALSE\n",
      "\n"
     ]
    }
   ],
   "source": [
    "o1 <- c(1, 2, 3)\n",
    "o2 <- c('a', 'b', 'c', 'd')\n",
    "o3 <- c(T, F, T, T, F)\n",
    "\n",
    "list1 <- list(o1, o2, o3)\n",
    "print(list1)"
   ]
  },
  {
   "cell_type": "code",
   "execution_count": 135,
   "id": "a88c086a-52cb-4fbf-b459-4a2aa7ebea6e",
   "metadata": {},
   "outputs": [
    {
     "data": {
      "text/html": [
       "2"
      ],
      "text/latex": [
       "2"
      ],
      "text/markdown": [
       "2"
      ],
      "text/plain": [
       "[1] 2"
      ]
     },
     "metadata": {},
     "output_type": "display_data"
    }
   ],
   "source": [
    "list1[[1]][2]"
   ]
  },
  {
   "cell_type": "code",
   "execution_count": 137,
   "id": "a28b9735-3feb-432e-a3d9-162278b118d5",
   "metadata": {},
   "outputs": [
    {
     "name": "stdout",
     "output_type": "stream",
     "text": [
      "[[1]]\n",
      "[1] 1 2 3\n",
      "\n",
      "[[2]]\n",
      "[1] \"a\" \"b\" \"c\" \"d\"\n",
      "\n",
      "[[3]]\n",
      "[1]  TRUE FALSE  TRUE  TRUE FALSE\n",
      "\n",
      "[[4]]\n",
      "[[4]][[1]]\n",
      "[1] 1 2 3\n",
      "\n",
      "[[4]][[2]]\n",
      "[1] \"a\" \"b\" \"c\" \"d\"\n",
      "\n",
      "[[4]][[3]]\n",
      "[1]  TRUE FALSE  TRUE  TRUE FALSE\n",
      "\n",
      "\n"
     ]
    }
   ],
   "source": [
    "list2 <- list(o1, o2, o3, list1)\n",
    "print(list2)"
   ]
  },
  {
   "cell_type": "code",
   "execution_count": 143,
   "id": "3ab052b2-7d4b-4597-9139-6254eec0c16e",
   "metadata": {},
   "outputs": [
    {
     "data": {
      "text/html": [
       "'c'"
      ],
      "text/latex": [
       "'c'"
      ],
      "text/markdown": [
       "'c'"
      ],
      "text/plain": [
       "[1] \"c\""
      ]
     },
     "metadata": {},
     "output_type": "display_data"
    }
   ],
   "source": [
    "list2[[4]][[2]][3]"
   ]
  },
  {
   "cell_type": "markdown",
   "id": "04a627bf-e43c-4b59-85b0-122eaa4daf59",
   "metadata": {},
   "source": [
    "## COERCING TYPES"
   ]
  },
  {
   "cell_type": "markdown",
   "id": "003fa652-f484-44d9-9229-886b74fc56d1",
   "metadata": {},
   "source": [
    "### Automatic coercion"
   ]
  },
  {
   "cell_type": "code",
   "execution_count": 150,
   "id": "12c1663f-a9cb-4111-9238-561c6e3879b4",
   "metadata": {},
   "outputs": [
    {
     "name": "stdout",
     "output_type": "stream",
     "text": [
      "[1] \"1\"    \"b\"    \"TRUE\"\n"
     ]
    },
    {
     "data": {
      "text/html": [
       "'character'"
      ],
      "text/latex": [
       "'character'"
      ],
      "text/markdown": [
       "'character'"
      ],
      "text/plain": [
       "[1] \"character\""
      ]
     },
     "metadata": {},
     "output_type": "display_data"
    }
   ],
   "source": [
    "# Goes to \"least restrictive\" data type\n",
    "\n",
    "print(coerce1 <- c(1, 'b', T))\n",
    "typeof(coerce1)"
   ]
  },
  {
   "cell_type": "code",
   "execution_count": 167,
   "id": "86da442d-ae29-4ae8-a9d7-3857ee0be671",
   "metadata": {},
   "outputs": [
    {
     "name": "stdout",
     "output_type": "stream",
     "text": [
      "[1] 5\n"
     ]
    },
    {
     "data": {
      "text/html": [
       "'double'"
      ],
      "text/latex": [
       "'double'"
      ],
      "text/markdown": [
       "'double'"
      ],
      "text/plain": [
       "[1] \"double\""
      ]
     },
     "metadata": {},
     "output_type": "display_data"
    },
    {
     "name": "stdout",
     "output_type": "stream",
     "text": [
      "[1] 5\n"
     ]
    },
    {
     "data": {
      "text/html": [
       "'integer'"
      ],
      "text/latex": [
       "'integer'"
      ],
      "text/markdown": [
       "'integer'"
      ],
      "text/plain": [
       "[1] \"integer\""
      ]
     },
     "metadata": {},
     "output_type": "display_data"
    }
   ],
   "source": [
    "# Coerce numeric to integer\n",
    "\n",
    "print(coerce2 <- 5)\n",
    "typeof(coerce2)\n",
    "\n",
    "print(coerce3 <- as.integer(5))\n",
    "typeof(coerce3)"
   ]
  },
  {
   "cell_type": "code",
   "execution_count": 179,
   "id": "e85e2099-65b7-4c50-8ab8-3f06d7d7e168",
   "metadata": {},
   "outputs": [
    {
     "name": "stdout",
     "output_type": "stream",
     "text": [
      "[1] \"1\" \"2\" \"3\"\n"
     ]
    },
    {
     "data": {
      "text/html": [
       "'character'"
      ],
      "text/latex": [
       "'character'"
      ],
      "text/markdown": [
       "'character'"
      ],
      "text/plain": [
       "[1] \"character\""
      ]
     },
     "metadata": {},
     "output_type": "display_data"
    },
    {
     "name": "stdout",
     "output_type": "stream",
     "text": [
      "[1] 1 2 3\n"
     ]
    },
    {
     "data": {
      "text/html": [
       "'double'"
      ],
      "text/latex": [
       "'double'"
      ],
      "text/markdown": [
       "'double'"
      ],
      "text/plain": [
       "[1] \"double\""
      ]
     },
     "metadata": {},
     "output_type": "display_data"
    }
   ],
   "source": [
    "# Coerce charactar to numeric\n",
    "\n",
    "print(coerce4 <- c('1', '2', '3'))\n",
    "typeof(coerce4)\n",
    "\n",
    "print(coerce5 <- as.numeric(c('1', '2', '3')))\n",
    "typeof(coerce5)"
   ]
  },
  {
   "cell_type": "code",
   "execution_count": 194,
   "id": "942c52b7-3564-4bfc-a898-0147da71624c",
   "metadata": {},
   "outputs": [
    {
     "name": "stdout",
     "output_type": "stream",
     "text": [
      "     [,1] [,2] [,3]\n",
      "[1,]    1    4    7\n",
      "[2,]    2    5    8\n",
      "[3,]    3    6    9\n"
     ]
    },
    {
     "data": {
      "text/html": [
       "TRUE"
      ],
      "text/latex": [
       "TRUE"
      ],
      "text/markdown": [
       "TRUE"
      ],
      "text/plain": [
       "[1] TRUE"
      ]
     },
     "metadata": {},
     "output_type": "display_data"
    },
    {
     "data": {
      "text/html": [
       "<table class=\"dataframe\">\n",
       "<caption>A data.frame: 3 × 3</caption>\n",
       "<thead>\n",
       "\t<tr><th scope=col>V1</th><th scope=col>V2</th><th scope=col>V3</th></tr>\n",
       "\t<tr><th scope=col>&lt;int&gt;</th><th scope=col>&lt;int&gt;</th><th scope=col>&lt;int&gt;</th></tr>\n",
       "</thead>\n",
       "<tbody>\n",
       "\t<tr><td>1</td><td>2</td><td>3</td></tr>\n",
       "\t<tr><td>4</td><td>5</td><td>6</td></tr>\n",
       "\t<tr><td>7</td><td>8</td><td>9</td></tr>\n",
       "</tbody>\n",
       "</table>\n"
      ],
      "text/latex": [
       "A data.frame: 3 × 3\n",
       "\\begin{tabular}{lll}\n",
       " V1 & V2 & V3\\\\\n",
       " <int> & <int> & <int>\\\\\n",
       "\\hline\n",
       "\t 1 & 2 & 3\\\\\n",
       "\t 4 & 5 & 6\\\\\n",
       "\t 7 & 8 & 9\\\\\n",
       "\\end{tabular}\n"
      ],
      "text/markdown": [
       "\n",
       "A data.frame: 3 × 3\n",
       "\n",
       "| V1 &lt;int&gt; | V2 &lt;int&gt; | V3 &lt;int&gt; |\n",
       "|---|---|---|\n",
       "| 1 | 2 | 3 |\n",
       "| 4 | 5 | 6 |\n",
       "| 7 | 8 | 9 |\n",
       "\n"
      ],
      "text/plain": [
       "  V1 V2 V3\n",
       "1 1  2  3 \n",
       "2 4  5  6 \n",
       "3 7  8  9 "
      ]
     },
     "metadata": {},
     "output_type": "display_data"
    },
    {
     "data": {
      "text/html": [
       "TRUE"
      ],
      "text/latex": [
       "TRUE"
      ],
      "text/markdown": [
       "TRUE"
      ],
      "text/plain": [
       "[1] TRUE"
      ]
     },
     "metadata": {},
     "output_type": "display_data"
    }
   ],
   "source": [
    "# Coerce matrix to data frame\n",
    "\n",
    "print(coerce6 <- matrix(1:9, nrow = 3))\n",
    "is.matrix(coerce6)\n",
    "\n",
    "coerce7 <- as.data.frame(matrix(1:9, nrow = 3, byrow = T))\n",
    "coerce7\n",
    "#print(coerce7 <- as.data.frame(coerce6))\n",
    "is.data.frame(coerce7)"
   ]
  },
  {
   "cell_type": "code",
   "execution_count": 199,
   "id": "95e24c31-6f95-44c8-a20a-d545d1210b0f",
   "metadata": {},
   "outputs": [
    {
     "data": {
      "text/html": [
       "<style>\n",
       ".list-inline {list-style: none; margin:0; padding: 0}\n",
       ".list-inline>li {display: inline-block}\n",
       ".list-inline>li:not(:last-child)::after {content: \"\\00b7\"; padding: 0 .5ex}\n",
       "</style>\n",
       "<ol class=list-inline><li>1</li><li>7</li></ol>\n"
      ],
      "text/latex": [
       "\\begin{enumerate*}\n",
       "\\item 1\n",
       "\\item 7\n",
       "\\end{enumerate*}\n"
      ],
      "text/markdown": [
       "1. 1\n",
       "2. 7\n",
       "\n",
       "\n"
      ],
      "text/plain": [
       "[1] 1 7"
      ]
     },
     "metadata": {},
     "output_type": "display_data"
    }
   ],
   "source": [
    "coerce7[coerce7$V3 == 9 | coerce7$V3 == 3, ]$V1"
   ]
  }
 ],
 "metadata": {
  "kernelspec": {
   "display_name": "R [conda env:ml_data_science_r]",
   "language": "R",
   "name": "conda-env-ml_data_science_r-r"
  },
  "language_info": {
   "codemirror_mode": "r",
   "file_extension": ".r",
   "mimetype": "text/x-r-source",
   "name": "R",
   "pygments_lexer": "r",
   "version": "4.2.3"
  }
 },
 "nbformat": 4,
 "nbformat_minor": 5
}
