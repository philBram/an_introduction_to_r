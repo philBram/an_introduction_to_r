{
 "cells": [
  {
   "cell_type": "code",
   "execution_count": 8,
   "id": "0e75658d-1293-4525-8dee-0f5d9780b377",
   "metadata": {},
   "outputs": [],
   "source": [
    "library(psych)\n",
    "library(datasets)"
   ]
  },
  {
   "cell_type": "code",
   "execution_count": 14,
   "id": "bf89cdea-c6fc-483c-9cb7-c2d4a538c02a",
   "metadata": {},
   "outputs": [
    {
     "data": {
      "text/html": [
       "<table class=\"dataframe\">\n",
       "<caption>A data.frame: 6 × 5</caption>\n",
       "<thead>\n",
       "\t<tr><th></th><th scope=col>Sepal.Length</th><th scope=col>Sepal.Width</th><th scope=col>Petal.Length</th><th scope=col>Petal.Width</th><th scope=col>Species</th></tr>\n",
       "\t<tr><th></th><th scope=col>&lt;dbl&gt;</th><th scope=col>&lt;dbl&gt;</th><th scope=col>&lt;dbl&gt;</th><th scope=col>&lt;dbl&gt;</th><th scope=col>&lt;fct&gt;</th></tr>\n",
       "</thead>\n",
       "<tbody>\n",
       "\t<tr><th scope=row>1</th><td>5.1</td><td>3.5</td><td>1.4</td><td>0.2</td><td>setosa</td></tr>\n",
       "\t<tr><th scope=row>2</th><td>4.9</td><td>3.0</td><td>1.4</td><td>0.2</td><td>setosa</td></tr>\n",
       "\t<tr><th scope=row>3</th><td>4.7</td><td>3.2</td><td>1.3</td><td>0.2</td><td>setosa</td></tr>\n",
       "\t<tr><th scope=row>4</th><td>4.6</td><td>3.1</td><td>1.5</td><td>0.2</td><td>setosa</td></tr>\n",
       "\t<tr><th scope=row>5</th><td>5.0</td><td>3.6</td><td>1.4</td><td>0.2</td><td>setosa</td></tr>\n",
       "\t<tr><th scope=row>6</th><td>5.4</td><td>3.9</td><td>1.7</td><td>0.4</td><td>setosa</td></tr>\n",
       "</tbody>\n",
       "</table>\n"
      ],
      "text/latex": [
       "A data.frame: 6 × 5\n",
       "\\begin{tabular}{r|lllll}\n",
       "  & Sepal.Length & Sepal.Width & Petal.Length & Petal.Width & Species\\\\\n",
       "  & <dbl> & <dbl> & <dbl> & <dbl> & <fct>\\\\\n",
       "\\hline\n",
       "\t1 & 5.1 & 3.5 & 1.4 & 0.2 & setosa\\\\\n",
       "\t2 & 4.9 & 3.0 & 1.4 & 0.2 & setosa\\\\\n",
       "\t3 & 4.7 & 3.2 & 1.3 & 0.2 & setosa\\\\\n",
       "\t4 & 4.6 & 3.1 & 1.5 & 0.2 & setosa\\\\\n",
       "\t5 & 5.0 & 3.6 & 1.4 & 0.2 & setosa\\\\\n",
       "\t6 & 5.4 & 3.9 & 1.7 & 0.4 & setosa\\\\\n",
       "\\end{tabular}\n"
      ],
      "text/markdown": [
       "\n",
       "A data.frame: 6 × 5\n",
       "\n",
       "| <!--/--> | Sepal.Length &lt;dbl&gt; | Sepal.Width &lt;dbl&gt; | Petal.Length &lt;dbl&gt; | Petal.Width &lt;dbl&gt; | Species &lt;fct&gt; |\n",
       "|---|---|---|---|---|---|\n",
       "| 1 | 5.1 | 3.5 | 1.4 | 0.2 | setosa |\n",
       "| 2 | 4.9 | 3.0 | 1.4 | 0.2 | setosa |\n",
       "| 3 | 4.7 | 3.2 | 1.3 | 0.2 | setosa |\n",
       "| 4 | 4.6 | 3.1 | 1.5 | 0.2 | setosa |\n",
       "| 5 | 5.0 | 3.6 | 1.4 | 0.2 | setosa |\n",
       "| 6 | 5.4 | 3.9 | 1.7 | 0.4 | setosa |\n",
       "\n"
      ],
      "text/plain": [
       "  Sepal.Length Sepal.Width Petal.Length Petal.Width Species\n",
       "1 5.1          3.5         1.4          0.2         setosa \n",
       "2 4.9          3.0         1.4          0.2         setosa \n",
       "3 4.7          3.2         1.3          0.2         setosa \n",
       "4 4.6          3.1         1.5          0.2         setosa \n",
       "5 5.0          3.6         1.4          0.2         setosa \n",
       "6 5.4          3.9         1.7          0.4         setosa "
      ]
     },
     "metadata": {},
     "output_type": "display_data"
    }
   ],
   "source": [
    "head(iris)"
   ]
  },
  {
   "cell_type": "code",
   "execution_count": 19,
   "id": "907ee0c1-c8a0-48e1-b0c8-a6bf0ca71c78",
   "metadata": {
    "tags": []
   },
   "outputs": [],
   "source": [
    "#p_load(psych)\n",
    "#p_help(psych, web = F)"
   ]
  },
  {
   "cell_type": "code",
   "execution_count": 20,
   "id": "62c35274-658b-4ce4-934f-9ad52e7e2773",
   "metadata": {
    "tags": []
   },
   "outputs": [],
   "source": [
    "#?psych"
   ]
  },
  {
   "cell_type": "code",
   "execution_count": 22,
   "id": "a2fc6eb1-1997-4018-97c1-16bcaaa56a50",
   "metadata": {},
   "outputs": [
    {
     "data": {
      "text/html": [
       "<table class=\"dataframe\">\n",
       "<caption>A psych: 1 × 13</caption>\n",
       "<thead>\n",
       "\t<tr><th></th><th scope=col>vars</th><th scope=col>n</th><th scope=col>mean</th><th scope=col>sd</th><th scope=col>median</th><th scope=col>trimmed</th><th scope=col>mad</th><th scope=col>min</th><th scope=col>max</th><th scope=col>range</th><th scope=col>skew</th><th scope=col>kurtosis</th><th scope=col>se</th></tr>\n",
       "\t<tr><th></th><th scope=col>&lt;dbl&gt;</th><th scope=col>&lt;dbl&gt;</th><th scope=col>&lt;dbl&gt;</th><th scope=col>&lt;dbl&gt;</th><th scope=col>&lt;dbl&gt;</th><th scope=col>&lt;dbl&gt;</th><th scope=col>&lt;dbl&gt;</th><th scope=col>&lt;dbl&gt;</th><th scope=col>&lt;dbl&gt;</th><th scope=col>&lt;dbl&gt;</th><th scope=col>&lt;dbl&gt;</th><th scope=col>&lt;dbl&gt;</th><th scope=col>&lt;dbl&gt;</th></tr>\n",
       "</thead>\n",
       "<tbody>\n",
       "\t<tr><th scope=row>X1</th><td>1</td><td>150</td><td>5.843333</td><td>0.8280661</td><td>5.8</td><td>5.808333</td><td>1.03782</td><td>4.3</td><td>7.9</td><td>3.6</td><td>0.3086407</td><td>-0.6058125</td><td>0.06761132</td></tr>\n",
       "</tbody>\n",
       "</table>\n"
      ],
      "text/latex": [
       "A psych: 1 × 13\n",
       "\\begin{tabular}{r|lllllllllllll}\n",
       "  & vars & n & mean & sd & median & trimmed & mad & min & max & range & skew & kurtosis & se\\\\\n",
       "  & <dbl> & <dbl> & <dbl> & <dbl> & <dbl> & <dbl> & <dbl> & <dbl> & <dbl> & <dbl> & <dbl> & <dbl> & <dbl>\\\\\n",
       "\\hline\n",
       "\tX1 & 1 & 150 & 5.843333 & 0.8280661 & 5.8 & 5.808333 & 1.03782 & 4.3 & 7.9 & 3.6 & 0.3086407 & -0.6058125 & 0.06761132\\\\\n",
       "\\end{tabular}\n"
      ],
      "text/markdown": [
       "\n",
       "A psych: 1 × 13\n",
       "\n",
       "| <!--/--> | vars &lt;dbl&gt; | n &lt;dbl&gt; | mean &lt;dbl&gt; | sd &lt;dbl&gt; | median &lt;dbl&gt; | trimmed &lt;dbl&gt; | mad &lt;dbl&gt; | min &lt;dbl&gt; | max &lt;dbl&gt; | range &lt;dbl&gt; | skew &lt;dbl&gt; | kurtosis &lt;dbl&gt; | se &lt;dbl&gt; |\n",
       "|---|---|---|---|---|---|---|---|---|---|---|---|---|---|\n",
       "| X1 | 1 | 150 | 5.843333 | 0.8280661 | 5.8 | 5.808333 | 1.03782 | 4.3 | 7.9 | 3.6 | 0.3086407 | -0.6058125 | 0.06761132 |\n",
       "\n"
      ],
      "text/plain": [
       "   vars n   mean     sd        median trimmed  mad     min max range skew     \n",
       "X1 1    150 5.843333 0.8280661 5.8    5.808333 1.03782 4.3 7.9 3.6   0.3086407\n",
       "   kurtosis   se        \n",
       "X1 -0.6058125 0.06761132"
      ]
     },
     "metadata": {},
     "output_type": "display_data"
    }
   ],
   "source": [
    "describe(iris$Sepal.Length)"
   ]
  },
  {
   "cell_type": "code",
   "execution_count": 23,
   "id": "8cf3d8a0-b445-4de9-a92c-858683cfd2bd",
   "metadata": {},
   "outputs": [
    {
     "data": {
      "text/html": [
       "<table class=\"dataframe\">\n",
       "<caption>A psych: 5 × 13</caption>\n",
       "<thead>\n",
       "\t<tr><th></th><th scope=col>vars</th><th scope=col>n</th><th scope=col>mean</th><th scope=col>sd</th><th scope=col>median</th><th scope=col>trimmed</th><th scope=col>mad</th><th scope=col>min</th><th scope=col>max</th><th scope=col>range</th><th scope=col>skew</th><th scope=col>kurtosis</th><th scope=col>se</th></tr>\n",
       "\t<tr><th></th><th scope=col>&lt;int&gt;</th><th scope=col>&lt;dbl&gt;</th><th scope=col>&lt;dbl&gt;</th><th scope=col>&lt;dbl&gt;</th><th scope=col>&lt;dbl&gt;</th><th scope=col>&lt;dbl&gt;</th><th scope=col>&lt;dbl&gt;</th><th scope=col>&lt;dbl&gt;</th><th scope=col>&lt;dbl&gt;</th><th scope=col>&lt;dbl&gt;</th><th scope=col>&lt;dbl&gt;</th><th scope=col>&lt;dbl&gt;</th><th scope=col>&lt;dbl&gt;</th></tr>\n",
       "</thead>\n",
       "<tbody>\n",
       "\t<tr><th scope=row>Sepal.Length</th><td>1</td><td>150</td><td>5.843333</td><td>0.8280661</td><td>5.80</td><td>5.808333</td><td>1.03782</td><td>4.3</td><td>7.9</td><td>3.6</td><td> 0.3086407</td><td>-0.6058125</td><td>0.06761132</td></tr>\n",
       "\t<tr><th scope=row>Sepal.Width</th><td>2</td><td>150</td><td>3.057333</td><td>0.4358663</td><td>3.00</td><td>3.043333</td><td>0.44478</td><td>2.0</td><td>4.4</td><td>2.4</td><td> 0.3126147</td><td> 0.1387047</td><td>0.03558833</td></tr>\n",
       "\t<tr><th scope=row>Petal.Length</th><td>3</td><td>150</td><td>3.758000</td><td>1.7652982</td><td>4.35</td><td>3.760000</td><td>1.85325</td><td>1.0</td><td>6.9</td><td>5.9</td><td>-0.2694109</td><td>-1.4168574</td><td>0.14413600</td></tr>\n",
       "\t<tr><th scope=row>Petal.Width</th><td>4</td><td>150</td><td>1.199333</td><td>0.7622377</td><td>1.30</td><td>1.184167</td><td>1.03782</td><td>0.1</td><td>2.5</td><td>2.4</td><td>-0.1009166</td><td>-1.3581792</td><td>0.06223645</td></tr>\n",
       "\t<tr><th scope=row>Species*</th><td>5</td><td>150</td><td>2.000000</td><td>0.8192319</td><td>2.00</td><td>2.000000</td><td>1.48260</td><td>1.0</td><td>3.0</td><td>2.0</td><td> 0.0000000</td><td>-1.5199333</td><td>0.06689001</td></tr>\n",
       "</tbody>\n",
       "</table>\n"
      ],
      "text/latex": [
       "A psych: 5 × 13\n",
       "\\begin{tabular}{r|lllllllllllll}\n",
       "  & vars & n & mean & sd & median & trimmed & mad & min & max & range & skew & kurtosis & se\\\\\n",
       "  & <int> & <dbl> & <dbl> & <dbl> & <dbl> & <dbl> & <dbl> & <dbl> & <dbl> & <dbl> & <dbl> & <dbl> & <dbl>\\\\\n",
       "\\hline\n",
       "\tSepal.Length & 1 & 150 & 5.843333 & 0.8280661 & 5.80 & 5.808333 & 1.03782 & 4.3 & 7.9 & 3.6 &  0.3086407 & -0.6058125 & 0.06761132\\\\\n",
       "\tSepal.Width & 2 & 150 & 3.057333 & 0.4358663 & 3.00 & 3.043333 & 0.44478 & 2.0 & 4.4 & 2.4 &  0.3126147 &  0.1387047 & 0.03558833\\\\\n",
       "\tPetal.Length & 3 & 150 & 3.758000 & 1.7652982 & 4.35 & 3.760000 & 1.85325 & 1.0 & 6.9 & 5.9 & -0.2694109 & -1.4168574 & 0.14413600\\\\\n",
       "\tPetal.Width & 4 & 150 & 1.199333 & 0.7622377 & 1.30 & 1.184167 & 1.03782 & 0.1 & 2.5 & 2.4 & -0.1009166 & -1.3581792 & 0.06223645\\\\\n",
       "\tSpecies* & 5 & 150 & 2.000000 & 0.8192319 & 2.00 & 2.000000 & 1.48260 & 1.0 & 3.0 & 2.0 &  0.0000000 & -1.5199333 & 0.06689001\\\\\n",
       "\\end{tabular}\n"
      ],
      "text/markdown": [
       "\n",
       "A psych: 5 × 13\n",
       "\n",
       "| <!--/--> | vars &lt;int&gt; | n &lt;dbl&gt; | mean &lt;dbl&gt; | sd &lt;dbl&gt; | median &lt;dbl&gt; | trimmed &lt;dbl&gt; | mad &lt;dbl&gt; | min &lt;dbl&gt; | max &lt;dbl&gt; | range &lt;dbl&gt; | skew &lt;dbl&gt; | kurtosis &lt;dbl&gt; | se &lt;dbl&gt; |\n",
       "|---|---|---|---|---|---|---|---|---|---|---|---|---|---|\n",
       "| Sepal.Length | 1 | 150 | 5.843333 | 0.8280661 | 5.80 | 5.808333 | 1.03782 | 4.3 | 7.9 | 3.6 |  0.3086407 | -0.6058125 | 0.06761132 |\n",
       "| Sepal.Width | 2 | 150 | 3.057333 | 0.4358663 | 3.00 | 3.043333 | 0.44478 | 2.0 | 4.4 | 2.4 |  0.3126147 |  0.1387047 | 0.03558833 |\n",
       "| Petal.Length | 3 | 150 | 3.758000 | 1.7652982 | 4.35 | 3.760000 | 1.85325 | 1.0 | 6.9 | 5.9 | -0.2694109 | -1.4168574 | 0.14413600 |\n",
       "| Petal.Width | 4 | 150 | 1.199333 | 0.7622377 | 1.30 | 1.184167 | 1.03782 | 0.1 | 2.5 | 2.4 | -0.1009166 | -1.3581792 | 0.06223645 |\n",
       "| Species* | 5 | 150 | 2.000000 | 0.8192319 | 2.00 | 2.000000 | 1.48260 | 1.0 | 3.0 | 2.0 |  0.0000000 | -1.5199333 | 0.06689001 |\n",
       "\n"
      ],
      "text/plain": [
       "             vars n   mean     sd        median trimmed  mad     min max range\n",
       "Sepal.Length 1    150 5.843333 0.8280661 5.80   5.808333 1.03782 4.3 7.9 3.6  \n",
       "Sepal.Width  2    150 3.057333 0.4358663 3.00   3.043333 0.44478 2.0 4.4 2.4  \n",
       "Petal.Length 3    150 3.758000 1.7652982 4.35   3.760000 1.85325 1.0 6.9 5.9  \n",
       "Petal.Width  4    150 1.199333 0.7622377 1.30   1.184167 1.03782 0.1 2.5 2.4  \n",
       "Species*     5    150 2.000000 0.8192319 2.00   2.000000 1.48260 1.0 3.0 2.0  \n",
       "             skew       kurtosis   se        \n",
       "Sepal.Length  0.3086407 -0.6058125 0.06761132\n",
       "Sepal.Width   0.3126147  0.1387047 0.03558833\n",
       "Petal.Length -0.2694109 -1.4168574 0.14413600\n",
       "Petal.Width  -0.1009166 -1.3581792 0.06223645\n",
       "Species*      0.0000000 -1.5199333 0.06689001"
      ]
     },
     "metadata": {},
     "output_type": "display_data"
    }
   ],
   "source": [
    "describe(iris)"
   ]
  }
 ],
 "metadata": {
  "kernelspec": {
   "display_name": "R [conda env:ml_data_science_r]",
   "language": "R",
   "name": "conda-env-ml_data_science_r-r"
  },
  "language_info": {
   "codemirror_mode": "r",
   "file_extension": ".r",
   "mimetype": "text/x-r-source",
   "name": "R",
   "pygments_lexer": "r",
   "version": "4.2.3"
  }
 },
 "nbformat": 4,
 "nbformat_minor": 5
}
